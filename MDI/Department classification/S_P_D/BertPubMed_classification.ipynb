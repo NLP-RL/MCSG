{
  "cells": [
    {
      "cell_type": "code",
      "execution_count": null,
      "metadata": {
        "id": "qFhdeOxiLrDQ"
      },
      "outputs": [],
      "source": [
        "!pip install tensorflow_text\n",
        "import tensorflow_text as text\n",
        "import pandas as pd\n",
        "import numpy as np\n",
        "import keras\n",
        "import tensorflow as tf\n",
        "from keras.layers import *\n",
        "import tensorflow_hub as hub\n",
        "from keras.models import Model\n",
        "from sklearn.model_selection import train_test_split"
      ]
    },
    {
      "cell_type": "code",
      "execution_count": 3,
      "metadata": {
        "id": "sxflEACRAHBE"
      },
      "outputs": [],
      "source": [
        "train = pd.read_csv('TRAIN.csv')\n",
        "test = pd.read_csv('TEST.csv')\n",
        "train = train.astype(str)\n",
        "test = test.astype(str)\n",
        "\n",
        "train = train.drop(['index', 'Unnamed: 0'], axis=1)\n",
        "test = test.drop(['index', 'Unnamed: 0'], axis=1)"
      ]
    },
    {
      "cell_type": "code",
      "execution_count": 4,
      "metadata": {
        "id": "XXqb7QxsmrQu"
      },
      "outputs": [],
      "source": [
        "X_train_description = train['Description'].to_numpy()\n",
        "x_description = np.asarray(X_train_description).astype(str)\n",
        "\n",
        "X_train_patient_dialogue = train['Patient dialogue'].to_numpy()\n",
        "x_train_patient_dialogue = np.asarray(X_train_patient_dialogue).astype(str)\n",
        "\n",
        "X_train_doctor_dialogue = train['Doctor dialogue'].to_numpy()\n",
        "X_train_doctor_dialogue = np.asarray(X_train_doctor_dialogue).astype(str)\n",
        "\n",
        "\n",
        "X_test_description = test['Description'].to_numpy()\n",
        "x_test_description = np.asarray(X_test_description).astype(str)\n",
        "\n",
        "X_test_patient_dialogue = test['Patient dialogue'].to_numpy()\n",
        "x_test_patient_dialogue = np.asarray(X_test_patient_dialogue).astype(str)\n",
        "\n",
        "X_test_doctor_dialogue = test['Doctor dialogue'].to_numpy()\n",
        "X_test_doctor_dialogue = np.asarray(X_test_doctor_dialogue).astype(str)"
      ]
    },
    {
      "cell_type": "code",
      "execution_count": 5,
      "metadata": {
        "id": "ehaNEa_9CzML"
      },
      "outputs": [],
      "source": [
        "lst = list(train['Tag 1'].unique())"
      ]
    },
    {
      "cell_type": "code",
      "execution_count": 6,
      "metadata": {
        "id": "KnIP3JEUrZcZ"
      },
      "outputs": [],
      "source": [
        "y_train = pd.get_dummies(train['Tag 1'])\n",
        "y_test = pd.get_dummies(test['Tag 1'])\n",
        "\n",
        "y_train_ = np.asarray(y_train.values).astype('float32')\n",
        "y_test_ = np.asarray(y_test.values).astype('float32')"
      ]
    },
    {
      "cell_type": "code",
      "execution_count": 7,
      "metadata": {
        "id": "ealxELgf090o"
      },
      "outputs": [],
      "source": [
        "preprocessor = hub.load(\"https://tfhub.dev/tensorflow/bert_en_uncased_preprocess/3\")\n",
        "text_inputs = [tf.keras.layers.Input(shape=(), dtype=tf.string)]\n",
        "tokenize = hub.KerasLayer(preprocessor.tokenize)\n",
        "tokenized_inputs = [tokenize(segment) for segment in text_inputs]\n",
        "seq_length = 512\n",
        "bert_pack_inputs = hub.KerasLayer(preprocessor.bert_pack_inputs, arguments=dict(seq_length=seq_length))\n",
        "encoder_inputs = bert_pack_inputs(tokenized_inputs)\n",
        "encoder = hub.KerasLayer(\"https://tfhub.dev/google/experts/bert/pubmed/2\")\n",
        "outputs = encoder(encoder_inputs)\n",
        "pooled_output = outputs[\"sequence_output\"]\n",
        "embedding_model = tf.keras.Model(text_inputs, pooled_output)"
      ]
    },
    {
      "cell_type": "code",
      "execution_count": 8,
      "metadata": {
        "id": "EqGZtSbYzJNC"
      },
      "outputs": [],
      "source": [
        "from keras.layers import Layer\n",
        "import keras.backend as K\n",
        "\n",
        "# Add attention layer to the deep learning network\n",
        "class attention(Layer):\n",
        "    def __init__(self,**kwargs):\n",
        "        super(attention,self).__init__(**kwargs)\n",
        "\n",
        "    def build(self,input_shape):\n",
        "        self.W=self.add_weight(name='attention_weight', shape=(input_shape[-1],1), \n",
        "                               initializer='random_normal', trainable=True)\n",
        "        self.b=self.add_weight(name='attention_bias', shape=(input_shape[1],1), \n",
        "                               initializer='zeros', trainable=True)        \n",
        "        super(attention, self).build(input_shape)\n",
        "\n",
        "    def call(self,x):\n",
        "        # Alignment scores. Pass them through tanh function\n",
        "        e = K.tanh(K.dot(x,self.W)+self.b)\n",
        "        # Remove dimension of size 1\n",
        "        e = K.squeeze(e, axis=-1)   \n",
        "        # Compute the weights\n",
        "        alpha = K.softmax(e)\n",
        "        # Reshape to tensorFlow format\n",
        "        alpha = K.expand_dims(alpha, axis=-1)\n",
        "        # Compute the context vector\n",
        "        context = x * alpha\n",
        "        context = K.sum(context, axis=1)\n",
        "        return context"
      ]
    },
    {
      "cell_type": "code",
      "execution_count": null,
      "metadata": {
        "colab": {
          "base_uri": "https://localhost:8080/"
        },
        "id": "ISuMJebmz5yA",
        "outputId": "4e3c7197-f04e-4cd6-ceb7-0ee66d7c9b60"
      },
      "outputs": [],
      "source": [
        "text_input_description = Input(shape=(),dtype=tf.string,name='Description')\n",
        "text_input_patient_dialogue = Input(shape=(),dtype=tf.string, name='Patient dialogue')\n",
        "text_input_doctor_dialogue = Input(shape=(), dtype=tf.string, name='Doctor dialogue')\n",
        "\n",
        "encode_output_description = embedding_model(text_input_description)\n",
        "encode_output_patient_dialogue = embedding_model(text_input_patient_dialogue)\n",
        "encoded_output_doctor_dialogue = embedding_model(text_input_doctor_dialogue)\n",
        "'''\n",
        "bilstm_description = Bidirectional(CuDNNLSTM(units=256,return_sequences=False))(encode_output_description)\n",
        "bilstm_patient_dialogue = Bidirectional(CuDNNLSTM(units=256,return_sequences=False))(encode_output_patient_dialogue)\n",
        "bilstm_doctor_dialogue = Bidirectional(CuDNNLSTM(units=256, return_sequences=False))(encoded_output_doctor_dialogue)\n",
        "'''\n",
        "concat = Concatenate()([encode_output_description, encode_output_patient_dialogue, encode_output_doctor_dialogue])\n",
        "\n",
        "#att = attention()(concat)\n",
        "\n",
        "output = Dense(13, activation='softmax')(concat)\n",
        "model = Model(inputs=[text_input_description, text_input_patient_dialogue, text_input_doctor_dialogue], \n",
        "              outputs=output)\n",
        "model.compile(loss='categorical_crossentropy',\n",
        "              optimizer='adam',\n",
        "              metrics=['accuracy'])\n",
        "\n",
        "model.summary()"
      ]
    },
    {
      "cell_type": "code",
      "execution_count": null,
      "metadata": {
        "colab": {
          "base_uri": "https://localhost:8080/",
          "height": 533
        },
        "id": "Xp2yvNdSz-2a",
        "outputId": "2345e635-cff9-4d5c-fd89-07579b8c2f0f"
      },
      "outputs": [],
      "source": [
        "tf.keras.utils.plot_model(\n",
        "    model,\n",
        "    show_shapes=True,\n",
        "    show_dtype=False,\n",
        "    show_layer_names=True,\n",
        "    rankdir=\"TB\",\n",
        "    expand_nested=False,\n",
        "    dpi=96,\n",
        "    layer_range=None,\n",
        "    show_layer_activations=True,\n",
        ")"
      ]
    },
    {
      "cell_type": "markdown",
      "metadata": {
        "id": "6d3CTxo9-mh7"
      },
      "source": [
        "# Training..."
      ]
    },
    {
      "cell_type": "code",
      "execution_count": null,
      "metadata": {
        "colab": {
          "base_uri": "https://localhost:8080/"
        },
        "id": "PXi3Sh0z0A5S",
        "outputId": "1bd7dcb0-3da4-49af-c6bd-8cd22756fede"
      },
      "outputs": [],
      "source": [
        "checkpoint_filepath = 'model.h5'\n",
        "model_checkpoint_callback = tf.keras.callbacks.ModelCheckpoint(\n",
        "    filepath=checkpoint_filepath,\n",
        "    save_weights_only=True,\n",
        "    monitor='accuracy',\n",
        "    mode='max',\n",
        "    save_best_only=True)\n",
        "\n",
        "early_stopping = tf.keras.callbacks.EarlyStopping(monitor='accuracy', \n",
        "                                               mode='auto', \n",
        "                                               patience=5, \n",
        "                                               verbose=1)\n",
        "\n",
        "hist = model.fit([X_train_description, X_train_patient_dialogue, X_doctor_dialogue],\n",
        "                y_train_, \n",
        "                epochs=100, \n",
        "                batch_size=4, \n",
        "                verbose=1,\n",
        "                callbacks=[early_stopping,model_checkpoint_callback])"
      ]
    },
    {
      "cell_type": "markdown",
      "metadata": {
        "id": "nZSsWz0udcwc"
      },
      "source": [
        "# Loading trained model"
      ]
    },
    {
      "cell_type": "code",
      "execution_count": null,
      "metadata": {
        "id": "Mw6I15AUdhLY"
      },
      "outputs": [],
      "source": [
        "model.load_weights('model.h5')"
      ]
    },
    {
      "cell_type": "code",
      "execution_count": null,
      "metadata": {
        "id": "Cvw3cHaM0FtC"
      },
      "outputs": [],
      "source": [
        "model.evaluate([X_test_description,X_test_patient_dialogue, X_test_doctor_dialogue], y_test_, batch_size=1)"
      ]
    },
    {
      "cell_type": "code",
      "execution_count": null,
      "metadata": {
        "id": "Ni82cFNa0Hgr"
      },
      "outputs": [],
      "source": [
        "pred = model.predict([X_test_description,X_test_patient_dialogue, X_test_doctor_dialogue])"
      ]
    },
    {
      "cell_type": "code",
      "execution_count": null,
      "metadata": {
        "id": "d0cSCfEGt7sK"
      },
      "outputs": [],
      "source": [
        "lst = sorted(list(train['Tag 1'].unique()))"
      ]
    },
    {
      "cell_type": "code",
      "execution_count": null,
      "metadata": {
        "id": "3D6pTWOO0JQ5"
      },
      "outputs": [],
      "source": [
        "text = []\n",
        "pred_values=[]\n",
        "p_dialogue=[]\n",
        "d_dialogue=[]\n",
        "y_true=[]\n",
        "for i in range(len(X_test_description)):\n",
        "  text.append(X_test_description[i])\n",
        "  d_dialogue.append(X_test_doctor_dialogue[i])\n",
        "  pred_values.append(lst[np.argmax(pred[i])])\n",
        "  y_true.append(lst[np.argmax(y_test_[i])])\n",
        "\n",
        "output = pd.DataFrame(list(zip(text, y_true, pred_values)),\n",
        "               columns =['Description', 'True value', 'Predicted value'])"
      ]
    },
    {
      "cell_type": "code",
      "execution_count": null,
      "metadata": {
        "id": "XTIn-kFlBBJY"
      },
      "outputs": [],
      "source": [
        "output"
      ]
    },
    {
      "cell_type": "code",
      "execution_count": null,
      "metadata": {
        "id": "B2OygWax0cSk"
      },
      "outputs": [],
      "source": [
        "y_pred = np.argmax(pred, axis=1)\n",
        "y_test = np.argmax(y_test_, axis=1)\n",
        "\n",
        "from sklearn.metrics import f1_score\n",
        "print(\"F1 score(macro)\",f1_score(y_test, y_pred, average='macro'))\n",
        "print(\"F1 score(micro)\",f1_score(y_test, y_pred, average='micro'))"
      ]
    },
    {
      "cell_type": "markdown",
      "metadata": {},
      "source": [
        "# Confusion Matrix"
      ]
    },
    {
      "cell_type": "code",
      "execution_count": null,
      "metadata": {
        "id": "Mh9mJLCc0gss"
      },
      "outputs": [],
      "source": [
        "from sklearn.metrics import confusion_matrix\n",
        "confusion = confusion_matrix(y_test, y_pred)\n",
        "import matplotlib.pyplot as plt\n",
        "import seaborn as sns\n",
        "\n",
        "ax = sns.heatmap(confusion, annot=True, cmap='Blues')\n",
        "ax.xaxis.set_ticklabels(lst)\n",
        "ax.yaxis.set_ticklabels(lst)\n",
        "ax.set_title('Confusion matrix')\n",
        "ax.set_xlabel('\\nPredicted Values')\n",
        "ax.set_ylabel('Actual Values ')\n",
        "\n",
        "plt.xticks(rotation=90)\n",
        "plt.yticks(rotation=0)\n",
        "plt.show()"
      ]
    }
  ],
  "metadata": {
    "accelerator": "GPU",
    "colab": {
      "collapsed_sections": [],
      "name": "doctor",
      "provenance": []
    },
    "interpreter": {
      "hash": "ef5a1b878f1c0d36a8775ef65d61dea94c8b06f9e3de694c9f62c24084e753f1"
    },
    "kernelspec": {
      "display_name": "Python 3.7.9 64-bit",
      "language": "python",
      "name": "python3"
    },
    "language_info": {
      "name": "python",
      "version": "3.7.9"
    }
  },
  "nbformat": 4,
  "nbformat_minor": 0
}
