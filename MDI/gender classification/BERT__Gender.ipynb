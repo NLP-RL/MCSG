{
  "cells": [
    {
      "cell_type": "code",
      "execution_count": null,
      "metadata": {
        "id": "V-n9JGWuExpc"
      },
      "outputs": [],
      "source": [
        "from google.colab import drive\n",
        "drive.mount('/content/drive')"
      ]
    },
    {
      "cell_type": "code",
      "execution_count": null,
      "metadata": {
        "id": "qFhdeOxiLrDQ"
      },
      "outputs": [],
      "source": [
        "!pip install tensorflow_text\n",
        "import tensorflow_text as text\n",
        "import pandas as pd\n",
        "import numpy as np\n",
        "import keras\n",
        "import tensorflow as tf\n",
        "from keras.layers import *\n",
        "import tensorflow_hub as hub\n",
        "from keras.models import Model\n",
        "from sklearn.model_selection import train_test_split"
      ]
    },
    {
      "cell_type": "code",
      "execution_count": null,
      "metadata": {
        "id": "Fc0McbNxVwWH"
      },
      "outputs": [],
      "source": [
        "final=pd.read_csv('file.csv')"
      ]
    },
    {
      "cell_type": "code",
      "execution_count": null,
      "metadata": {
        "colab": {
          "base_uri": "https://localhost:8080/",
          "height": 300
        },
        "id": "ayZDptHoUkbS",
        "outputId": "59435b42-438b-4972-8fe5-251ea0483835"
      },
      "outputs": [],
      "source": [
        "df = final\n",
        "df=df.astype(str)\n",
        "tagging='Patient gender'\n",
        "labels = sorted(list(df[tagging].unique()))\n",
        "length = len(labels)\n",
        "label_count=df.groupby(tagging)[tagging].agg('count')\n",
        "label_count.to_numpy(dtype=int)\n",
        "label_count = np.expand_dims(label_count, axis=0)\n",
        "label_count.shape=(length,1)\n",
        "labels=np.array(labels)\n",
        "labels.shape=(length,1)\n",
        "label_count=np.column_stack((labels,label_count))\n",
        "data = pd.DataFrame(label_count, columns=['Label', 'Count'])\n",
        "convert_dict = {'Count': int}\n",
        "  \n",
        "data = data.astype(convert_dict)\n",
        "data"
      ]
    },
    {
      "cell_type": "code",
      "execution_count": null,
      "metadata": {
        "colab": {
          "base_uri": "https://localhost:8080/"
        },
        "id": "UGMGIV4HbRTG",
        "outputId": "15e844ad-7f3e-4690-c61e-e187258978ba"
      },
      "outputs": [],
      "source": [
        "final['Patient gender'].unique()"
      ]
    },
    {
      "cell_type": "code",
      "execution_count": null,
      "metadata": {
        "id": "3horpUM0SQ1f"
      },
      "outputs": [],
      "source": [
        "final=final. dropna()"
      ]
    },
    {
      "cell_type": "code",
      "execution_count": null,
      "metadata": {
        "id": "hq8ebA6QkYnc"
      },
      "outputs": [],
      "source": [
        "X=final['Patient dialogue']\n",
        "y=final['Patient gender']"
      ]
    },
    {
      "cell_type": "code",
      "execution_count": null,
      "metadata": {
        "colab": {
          "base_uri": "https://localhost:8080/"
        },
        "id": "WkjlKk1etiI2",
        "outputId": "66c0b1ea-b48f-490e-fec4-9601b66c711c"
      },
      "outputs": [
        {
          "data": {
            "text/plain": [
              "8"
            ]
          },
          "execution_count": 15,
          "metadata": {},
          "output_type": "execute_result"
        }
      ],
      "source": [
        "lst = list(final['Patient gender'].unique())\n",
        "len(lst)"
      ]
    },
    {
      "cell_type": "code",
      "execution_count": null,
      "metadata": {
        "id": "Qfhbkqoxlyzk"
      },
      "outputs": [],
      "source": [
        "x_train, x_test, y_train, y_test = train_test_split(X, y, test_size=0.2,stratify=y)"
      ]
    },
    {
      "cell_type": "code",
      "execution_count": null,
      "metadata": {
        "colab": {
          "base_uri": "https://localhost:8080/"
        },
        "id": "e9PZ5cL0lHgK",
        "outputId": "1b5d929c-447c-44f2-ac7f-c45f4b9e15a8"
      },
      "outputs": [
        {
          "data": {
            "text/plain": [
              "4823    patient: my nani has a pancreatic cancer from ...\n",
              "1182    My wife, age 45years, has been having low grad...\n",
              "266     my mother in law fights with her husband at 12...\n",
              "1383    I have a molar in the back that has most of th...\n",
              "1591    My Pharmacy told me I had a new prescription f...\n",
              "                              ...                        \n",
              "5382    I occasionally use the wrong word in a sentenc...\n",
              "4356    We did not have an intercourse and also we wer...\n",
              "4234    Hello doctor,I have a rash for three years. It...\n",
              "1338    Hello, I have torn my frenulum some weeks ago ...\n",
              "945      Hello doctor,I am a 57-year-old white male. M...\n",
              "Name: Patient dialogue, Length: 5051, dtype: object"
            ]
          },
          "execution_count": 17,
          "metadata": {},
          "output_type": "execute_result"
        }
      ],
      "source": [
        "x_train"
      ]
    },
    {
      "cell_type": "code",
      "execution_count": null,
      "metadata": {
        "id": "XXqb7QxsmrQu"
      },
      "outputs": [],
      "source": [
        "X_train_patient_dialogue = x_train.to_numpy()\n",
        "x_train_patient_dialogue = np.asarray(X_train_patient_dialogue).astype(str)\n",
        "\n",
        "X_test_patient_dialogue = x_test.to_numpy()\n",
        "x_test_patient_dialogue = np.asarray(X_test_patient_dialogue).astype(str)\n"
      ]
    },
    {
      "cell_type": "code",
      "execution_count": null,
      "metadata": {
        "id": "IQMwsuqnneKA"
      },
      "outputs": [],
      "source": [
        "y_train=pd.get_dummies(y_train)\n",
        "y_test = pd.get_dummies(y_test)"
      ]
    },
    {
      "cell_type": "code",
      "execution_count": null,
      "metadata": {
        "id": "KnIP3JEUrZcZ"
      },
      "outputs": [],
      "source": [
        "\n",
        "y_train_ = np.asarray(y_train.values).astype('float32')\n",
        "y_test_ = np.asarray(y_test.values).astype('float32')"
      ]
    },
    {
      "cell_type": "code",
      "execution_count": null,
      "metadata": {
        "id": "ealxELgf090o"
      },
      "outputs": [],
      "source": [
        "preprocessor = hub.load(\"https://tfhub.dev/tensorflow/bert_en_uncased_preprocess/3\")\n",
        "text_inputs = [tf.keras.layers.Input(shape=(), dtype=tf.string)]\n",
        "tokenize = hub.KerasLayer(preprocessor.tokenize)\n",
        "tokenized_inputs = [tokenize(segment) for segment in text_inputs]\n",
        "seq_length = 512\n",
        "bert_pack_inputs = hub.KerasLayer(preprocessor.bert_pack_inputs, arguments=dict(seq_length=seq_length))\n",
        "encoder_inputs = bert_pack_inputs(tokenized_inputs)\n",
        "encoder = hub.KerasLayer(\"https://tfhub.dev/tensorflow/bert_en_uncased_L-12_H-768_A-12/4\")\n",
        "outputs = encoder(encoder_inputs)\n",
        "pooled_output = outputs[\"pooled_output\"]\n",
        "embedding_model = tf.keras.Model(text_inputs, pooled_output)"
      ]
    },
    {
      "cell_type": "code",
      "execution_count": null,
      "metadata": {
        "id": "EqGZtSbYzJNC"
      },
      "outputs": [],
      "source": [
        "from keras.layers import Layer\n",
        "import keras.backend as K\n",
        "\n",
        "# Add attention layer to the deep learning network\n",
        "class attention(Layer):\n",
        "    def __init__(self,**kwargs):\n",
        "        super(attention,self).__init__(**kwargs)\n",
        "\n",
        "    def build(self,input_shape):\n",
        "        self.W=self.add_weight(name='attention_weight', shape=(input_shape[-1],1), \n",
        "                               initializer='random_normal', trainable=True)\n",
        "        self.b=self.add_weight(name='attention_bias', shape=(input_shape[1],1), \n",
        "                               initializer='zeros', trainable=True)        \n",
        "        super(attention, self).build(input_shape)\n",
        "\n",
        "    def call(self,x):\n",
        "        # Alignment scores. Pass them through tanh function\n",
        "        e = K.tanh(K.dot(x,self.W)+self.b)\n",
        "        # Remove dimension of size 1\n",
        "        e = K.squeeze(e, axis=-1)   \n",
        "        # Compute the weights\n",
        "        alpha = K.softmax(e)\n",
        "        # Reshape to tensorFlow format\n",
        "        alpha = K.expand_dims(alpha, axis=-1)\n",
        "        # Compute the context vector\n",
        "        context = x * alpha\n",
        "        context = K.sum(context, axis=1)\n",
        "        return context"
      ]
    },
    {
      "cell_type": "code",
      "execution_count": null,
      "metadata": {
        "colab": {
          "base_uri": "https://localhost:8080/"
        },
        "id": "ISuMJebmz5yA",
        "outputId": "0dbe8d11-a264-4618-c4b6-14ebdd79de4e"
      },
      "outputs": [
        {
          "name": "stdout",
          "output_type": "stream",
          "text": [
            "Model: \"model_1\"\n",
            "_________________________________________________________________\n",
            " Layer (type)                Output Shape              Param #   \n",
            "=================================================================\n",
            " Patient dialogue (InputLaye  [(None,)]                0         \n",
            " r)                                                              \n",
            "                                                                 \n",
            " model (Functional)          (None, 768)               109482241 \n",
            "                                                                 \n",
            " dense (Dense)               (None, 8)                 6152      \n",
            "                                                                 \n",
            "=================================================================\n",
            "Total params: 109,488,393\n",
            "Trainable params: 6,152\n",
            "Non-trainable params: 109,482,241\n",
            "_________________________________________________________________\n"
          ]
        }
      ],
      "source": [
        "text_input_patient_dialogue = Input(shape=(),dtype=tf.string, name='Patient dialogue')\n",
        "encode_output_patient_dialogue = embedding_model(text_input_patient_dialogue)\n",
        "\n",
        "#bilstm_patient_dialogue = Bidirectional(CuDNNLSTM(units=256,return_sequences=True))(encode_output_patient_dialogue)\n",
        "\n",
        "#att = attention()(bilstm_patient_dialogue)\n",
        "\n",
        "output = Dense(len(lst), activation='softmax')(encode_output_patient_dialogue)\n",
        "model = Model(inputs=[text_input_patient_dialogue ], outputs=output)\n",
        "model.compile(loss='categorical_crossentropy',\n",
        "              optimizer='adam',\n",
        "              metrics=['accuracy'])\n",
        "\n",
        "model.summary()"
      ]
    },
    {
      "cell_type": "code",
      "execution_count": null,
      "metadata": {
        "colab": {
          "base_uri": "https://localhost:8080/",
          "height": 312
        },
        "id": "Xp2yvNdSz-2a",
        "outputId": "322427f6-204e-42a5-c8b4-910c64989b19"
      },
      "outputs": [
        {
          "data": {
            "image/png": "[encoded data removed]",
            "text/plain": [
              "<IPython.core.display.Image object>"
            ]
          },
          "execution_count": 24,
          "metadata": {},
          "output_type": "execute_result"
        }
      ],
      "source": [
        "tf.keras.utils.plot_model(\n",
        "    model,\n",
        "    to_file=\"model.png\",\n",
        "    show_shapes=True,\n",
        "    show_dtype=False,\n",
        "    show_layer_names=True,\n",
        "    rankdir=\"TB\",\n",
        "    expand_nested=False,\n",
        "    dpi=96,\n",
        "    layer_range=None,\n",
        "    show_layer_activations=True,\n",
        ")"
      ]
    },
    {
      "cell_type": "markdown",
      "metadata": {
        "id": "6d3CTxo9-mh7"
      },
      "source": [
        "# Training..."
      ]
    },
    {
      "cell_type": "code",
      "execution_count": null,
      "metadata": {
        "id": "PXi3Sh0z0A5S"
      },
      "outputs": [],
      "source": [
        "early_stopping = tf.keras.callbacks.EarlyStopping(monitor='accuracy', mode='auto', \n",
        "                                               patience=5, \n",
        "                                               verbose=1)\n",
        "\n",
        "hist = model.fit(X_train_patient_dialogue, y_train_, \n",
        "                epochs=100, \n",
        "                batch_size=4, verbose=1,\n",
        "                callbacks=[early_stopping])"
      ]
    },
    {
      "cell_type": "code",
      "execution_count": null,
      "metadata": {
        "id": "Cvw3cHaM0FtC"
      },
      "outputs": [],
      "source": [
        "model.evaluate( X_test_patient_dialogue, y_test_, batch_size=1)"
      ]
    },
    {
      "cell_type": "code",
      "execution_count": null,
      "metadata": {
        "id": "Ni82cFNa0Hgr"
      },
      "outputs": [],
      "source": [
        "pred = model.predict( X_test_patient_dialogue)"
      ]
    },
    {
      "cell_type": "code",
      "execution_count": null,
      "metadata": {
        "id": "3MANYmQjXYov"
      },
      "outputs": [],
      "source": [
        "y_pred = np.argmax(pred, axis=1)\n",
        "y_test = np.argmax(y_test_, axis=1)\n",
        "\n",
        "from sklearn.metrics import f1_score\n",
        "print(\"F1 score(macro)\",f1_score(y_test, y_pred, average='weighted'))\n",
        "print(\"F1 score(micro)\",f1_score(y_test, y_pred, average='micro'))\n",
        "\n"
      ]
    },
    {
      "cell_type": "markdown",
      "metadata": {
        "id": "V2k4Jr-FVm20"
      },
      "source": [
        "# Confusion Matrix"
      ]
    },
    {
      "cell_type": "code",
      "execution_count": null,
      "metadata": {
        "id": "Mh9mJLCc0gss"
      },
      "outputs": [],
      "source": [
        "from sklearn.metrics import confusion_matrix\n",
        "confusion = confusion_matrix(y_test, y_pred)\n",
        "import matplotlib.pyplot as plt\n",
        "import seaborn as sns\n",
        "\n",
        "ax = sns.heatmap(confusion, annot=True, cmap='Blues')\n",
        "ax.xaxis.set_ticklabels(labels)\n",
        "ax.yaxis.set_ticklabels(labels)\n",
        "ax.set_xlabel('\\nPredicted Values')\n",
        "ax.set_ylabel('Actual Values ')\n",
        "\n",
        "plt.xticks(rotation=90)\n",
        "plt.yticks(rotation=0)\n",
        "plt.show()"
      ]
    },
    {
      "cell_type": "code",
      "execution_count": null,
      "metadata": {
        "id": "7L9DYVPwZb2g"
      },
      "outputs": [],
      "source": [
        "from sklearn.metrics import accuracy_score\n",
        "accuracy_score(y_test, y_pred)"
      ]
    },
    {
      "cell_type": "code",
      "execution_count": null,
      "metadata": {
        "id": "6uVC4X2Hnsr5"
      },
      "outputs": [],
      "source": [
        "from sklearn.metrics import classification_report"
      ]
    },
    {
      "cell_type": "code",
      "execution_count": null,
      "metadata": {
        "id": "rGBiQY2unG-D"
      },
      "outputs": [],
      "source": [
        "print(classification_report(y_test,y_pred))"
      ]
    }
  ],
  "metadata": {
    "accelerator": "GPU",
    "colab": {
      "collapsed_sections": [],
      "name": "BERT__Age group.ipynb",
      "provenance": []
    },
    "interpreter": {
      "hash": "ef5a1b878f1c0d36a8775ef65d61dea94c8b06f9e3de694c9f62c24084e753f1"
    },
    "kernelspec": {
      "display_name": "Python 3.7.9 64-bit",
      "language": "python",
      "name": "python3"
    },
    "language_info": {
      "name": "python",
      "version": "3.7.9"
    }
  },
  "nbformat": 4,
  "nbformat_minor": 0
}
