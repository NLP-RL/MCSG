{
  "cells": [
    {
      "cell_type": "code",
      "execution_count": null,
      "metadata": {
        "id": "V-n9JGWuExpc",
        "outputId": "d69016b9-3d90-4147-947f-502e221f8c13",
        "colab": {
          "base_uri": "https://localhost:8080/"
        }
      },
      "outputs": [
        {
          "output_type": "stream",
          "name": "stdout",
          "text": [
            "Drive already mounted at /content/drive; to attempt to forcibly remount, call drive.mount(\"/content/drive\", force_remount=True).\n"
          ]
        }
      ],
      "source": [
        "from google.colab import drive\n",
        "drive.mount('/content/drive')"
      ]
    },
    {
      "cell_type": "code",
      "execution_count": null,
      "metadata": {
        "id": "qFhdeOxiLrDQ",
        "outputId": "b6394b65-6d70-4c6b-9b27-10ef16cbcbce",
        "colab": {
          "base_uri": "https://localhost:8080/"
        }
      },
      "outputs": [
        {
          "output_type": "stream",
          "name": "stdout",
          "text": [
            "Requirement already satisfied: tensorflow_text in /usr/local/lib/python3.7/dist-packages (2.8.2)\n",
            "Requirement already satisfied: tensorflow<2.9,>=2.8.0 in /usr/local/lib/python3.7/dist-packages (from tensorflow_text) (2.8.0)\n",
            "Requirement already satisfied: tensorflow-hub>=0.8.0 in /usr/local/lib/python3.7/dist-packages (from tensorflow_text) (0.12.0)\n",
            "Requirement already satisfied: tf-estimator-nightly==2.8.0.dev2021122109 in /usr/local/lib/python3.7/dist-packages (from tensorflow<2.9,>=2.8.0->tensorflow_text) (2.8.0.dev2021122109)\n",
            "Requirement already satisfied: google-pasta>=0.1.1 in /usr/local/lib/python3.7/dist-packages (from tensorflow<2.9,>=2.8.0->tensorflow_text) (0.2.0)\n",
            "Requirement already satisfied: keras-preprocessing>=1.1.1 in /usr/local/lib/python3.7/dist-packages (from tensorflow<2.9,>=2.8.0->tensorflow_text) (1.1.2)\n",
            "Requirement already satisfied: numpy>=1.20 in /usr/local/lib/python3.7/dist-packages (from tensorflow<2.9,>=2.8.0->tensorflow_text) (1.21.6)\n",
            "Requirement already satisfied: tensorflow-io-gcs-filesystem>=0.23.1 in /usr/local/lib/python3.7/dist-packages (from tensorflow<2.9,>=2.8.0->tensorflow_text) (0.25.0)\n",
            "Requirement already satisfied: absl-py>=0.4.0 in /usr/local/lib/python3.7/dist-packages (from tensorflow<2.9,>=2.8.0->tensorflow_text) (1.0.0)\n",
            "Requirement already satisfied: wrapt>=1.11.0 in /usr/local/lib/python3.7/dist-packages (from tensorflow<2.9,>=2.8.0->tensorflow_text) (1.14.0)\n",
            "Requirement already satisfied: protobuf>=3.9.2 in /usr/local/lib/python3.7/dist-packages (from tensorflow<2.9,>=2.8.0->tensorflow_text) (3.17.3)\n",
            "Requirement already satisfied: setuptools in /usr/local/lib/python3.7/dist-packages (from tensorflow<2.9,>=2.8.0->tensorflow_text) (57.4.0)\n",
            "Requirement already satisfied: six>=1.12.0 in /usr/local/lib/python3.7/dist-packages (from tensorflow<2.9,>=2.8.0->tensorflow_text) (1.15.0)\n",
            "Requirement already satisfied: opt-einsum>=2.3.2 in /usr/local/lib/python3.7/dist-packages (from tensorflow<2.9,>=2.8.0->tensorflow_text) (3.3.0)\n",
            "Requirement already satisfied: flatbuffers>=1.12 in /usr/local/lib/python3.7/dist-packages (from tensorflow<2.9,>=2.8.0->tensorflow_text) (2.0)\n",
            "Requirement already satisfied: gast>=0.2.1 in /usr/local/lib/python3.7/dist-packages (from tensorflow<2.9,>=2.8.0->tensorflow_text) (0.5.3)\n",
            "Requirement already satisfied: h5py>=2.9.0 in /usr/local/lib/python3.7/dist-packages (from tensorflow<2.9,>=2.8.0->tensorflow_text) (3.1.0)\n",
            "Requirement already satisfied: tensorboard<2.9,>=2.8 in /usr/local/lib/python3.7/dist-packages (from tensorflow<2.9,>=2.8.0->tensorflow_text) (2.8.0)\n",
            "Requirement already satisfied: grpcio<2.0,>=1.24.3 in /usr/local/lib/python3.7/dist-packages (from tensorflow<2.9,>=2.8.0->tensorflow_text) (1.44.0)\n",
            "Requirement already satisfied: libclang>=9.0.1 in /usr/local/lib/python3.7/dist-packages (from tensorflow<2.9,>=2.8.0->tensorflow_text) (14.0.1)\n",
            "Requirement already satisfied: termcolor>=1.1.0 in /usr/local/lib/python3.7/dist-packages (from tensorflow<2.9,>=2.8.0->tensorflow_text) (1.1.0)\n",
            "Requirement already satisfied: astunparse>=1.6.0 in /usr/local/lib/python3.7/dist-packages (from tensorflow<2.9,>=2.8.0->tensorflow_text) (1.6.3)\n",
            "Requirement already satisfied: keras<2.9,>=2.8.0rc0 in /usr/local/lib/python3.7/dist-packages (from tensorflow<2.9,>=2.8.0->tensorflow_text) (2.8.0)\n",
            "Requirement already satisfied: typing-extensions>=3.6.6 in /usr/local/lib/python3.7/dist-packages (from tensorflow<2.9,>=2.8.0->tensorflow_text) (4.2.0)\n",
            "Requirement already satisfied: wheel<1.0,>=0.23.0 in /usr/local/lib/python3.7/dist-packages (from astunparse>=1.6.0->tensorflow<2.9,>=2.8.0->tensorflow_text) (0.37.1)\n",
            "Requirement already satisfied: cached-property in /usr/local/lib/python3.7/dist-packages (from h5py>=2.9.0->tensorflow<2.9,>=2.8.0->tensorflow_text) (1.5.2)\n",
            "Requirement already satisfied: google-auth<3,>=1.6.3 in /usr/local/lib/python3.7/dist-packages (from tensorboard<2.9,>=2.8->tensorflow<2.9,>=2.8.0->tensorflow_text) (1.35.0)\n",
            "Requirement already satisfied: requests<3,>=2.21.0 in /usr/local/lib/python3.7/dist-packages (from tensorboard<2.9,>=2.8->tensorflow<2.9,>=2.8.0->tensorflow_text) (2.23.0)\n",
            "Requirement already satisfied: markdown>=2.6.8 in /usr/local/lib/python3.7/dist-packages (from tensorboard<2.9,>=2.8->tensorflow<2.9,>=2.8.0->tensorflow_text) (3.3.6)\n",
            "Requirement already satisfied: google-auth-oauthlib<0.5,>=0.4.1 in /usr/local/lib/python3.7/dist-packages (from tensorboard<2.9,>=2.8->tensorflow<2.9,>=2.8.0->tensorflow_text) (0.4.6)\n",
            "Requirement already satisfied: tensorboard-plugin-wit>=1.6.0 in /usr/local/lib/python3.7/dist-packages (from tensorboard<2.9,>=2.8->tensorflow<2.9,>=2.8.0->tensorflow_text) (1.8.1)\n",
            "Requirement already satisfied: werkzeug>=0.11.15 in /usr/local/lib/python3.7/dist-packages (from tensorboard<2.9,>=2.8->tensorflow<2.9,>=2.8.0->tensorflow_text) (1.0.1)\n",
            "Requirement already satisfied: tensorboard-data-server<0.7.0,>=0.6.0 in /usr/local/lib/python3.7/dist-packages (from tensorboard<2.9,>=2.8->tensorflow<2.9,>=2.8.0->tensorflow_text) (0.6.1)\n",
            "Requirement already satisfied: rsa<5,>=3.1.4 in /usr/local/lib/python3.7/dist-packages (from google-auth<3,>=1.6.3->tensorboard<2.9,>=2.8->tensorflow<2.9,>=2.8.0->tensorflow_text) (4.8)\n",
            "Requirement already satisfied: cachetools<5.0,>=2.0.0 in /usr/local/lib/python3.7/dist-packages (from google-auth<3,>=1.6.3->tensorboard<2.9,>=2.8->tensorflow<2.9,>=2.8.0->tensorflow_text) (4.2.4)\n",
            "Requirement already satisfied: pyasn1-modules>=0.2.1 in /usr/local/lib/python3.7/dist-packages (from google-auth<3,>=1.6.3->tensorboard<2.9,>=2.8->tensorflow<2.9,>=2.8.0->tensorflow_text) (0.2.8)\n",
            "Requirement already satisfied: requests-oauthlib>=0.7.0 in /usr/local/lib/python3.7/dist-packages (from google-auth-oauthlib<0.5,>=0.4.1->tensorboard<2.9,>=2.8->tensorflow<2.9,>=2.8.0->tensorflow_text) (1.3.1)\n",
            "Requirement already satisfied: importlib-metadata>=4.4 in /usr/local/lib/python3.7/dist-packages (from markdown>=2.6.8->tensorboard<2.9,>=2.8->tensorflow<2.9,>=2.8.0->tensorflow_text) (4.11.3)\n",
            "Requirement already satisfied: zipp>=0.5 in /usr/local/lib/python3.7/dist-packages (from importlib-metadata>=4.4->markdown>=2.6.8->tensorboard<2.9,>=2.8->tensorflow<2.9,>=2.8.0->tensorflow_text) (3.8.0)\n",
            "Requirement already satisfied: pyasn1<0.5.0,>=0.4.6 in /usr/local/lib/python3.7/dist-packages (from pyasn1-modules>=0.2.1->google-auth<3,>=1.6.3->tensorboard<2.9,>=2.8->tensorflow<2.9,>=2.8.0->tensorflow_text) (0.4.8)\n",
            "Requirement already satisfied: certifi>=2017.4.17 in /usr/local/lib/python3.7/dist-packages (from requests<3,>=2.21.0->tensorboard<2.9,>=2.8->tensorflow<2.9,>=2.8.0->tensorflow_text) (2021.10.8)\n",
            "Requirement already satisfied: idna<3,>=2.5 in /usr/local/lib/python3.7/dist-packages (from requests<3,>=2.21.0->tensorboard<2.9,>=2.8->tensorflow<2.9,>=2.8.0->tensorflow_text) (2.10)\n",
            "Requirement already satisfied: chardet<4,>=3.0.2 in /usr/local/lib/python3.7/dist-packages (from requests<3,>=2.21.0->tensorboard<2.9,>=2.8->tensorflow<2.9,>=2.8.0->tensorflow_text) (3.0.4)\n",
            "Requirement already satisfied: urllib3!=1.25.0,!=1.25.1,<1.26,>=1.21.1 in /usr/local/lib/python3.7/dist-packages (from requests<3,>=2.21.0->tensorboard<2.9,>=2.8->tensorflow<2.9,>=2.8.0->tensorflow_text) (1.24.3)\n",
            "Requirement already satisfied: oauthlib>=3.0.0 in /usr/local/lib/python3.7/dist-packages (from requests-oauthlib>=0.7.0->google-auth-oauthlib<0.5,>=0.4.1->tensorboard<2.9,>=2.8->tensorflow<2.9,>=2.8.0->tensorflow_text) (3.2.0)\n"
          ]
        }
      ],
      "source": [
        "!pip install tensorflow_text\n",
        "import tensorflow_text as text\n",
        "import pandas as pd\n",
        "import numpy as np\n",
        "import keras\n",
        "import tensorflow as tf\n",
        "from keras.layers import *\n",
        "import tensorflow_hub as hub\n",
        "from keras.models import Model\n",
        "from sklearn.model_selection import train_test_split"
      ]
    },
    {
      "cell_type": "code",
      "source": [
        "final=pd.read_csv('/content/Final (2).csv')"
      ],
      "metadata": {
        "id": "Fc0McbNxVwWH"
      },
      "execution_count": null,
      "outputs": []
    },
    {
      "cell_type": "code",
      "source": [
        "final"
      ],
      "metadata": {
        "colab": {
          "base_uri": "https://localhost:8080/",
          "height": 849
        },
        "id": "6E3kftAnWD1Z",
        "outputId": "f851f458-9061-4aca-b2d0-dbc445c43797"
      },
      "execution_count": null,
      "outputs": [
        {
          "output_type": "execute_result",
          "data": {
            "text/plain": [
              "                                            Description  \\\n",
              "0     Why am i having itchy feeling in tip of penis ...   \n",
              "1     What are the early signs and symptoms of pregn...   \n",
              "2     What is the cure for ulcer inside nose and goo...   \n",
              "3                            Is Mini pills safe to use?   \n",
              "4     Is low basal body temperature a sign of ovulat...   \n",
              "...                                                 ...   \n",
              "6309   what for lesuride od 75 is prescribed for what??   \n",
              "6310               I need to get off injecting the drug   \n",
              "6311                  How to relieve the severe stress?   \n",
              "6312  How long does withdrawal symptoms of Zoloft ex...   \n",
              "6313        What is the best treatment to get pregnant?   \n",
              "\n",
              "                                       Patient dialogue  \\\n",
              "0      Hi. After i masturbate. I sometimes have an i...   \n",
              "1     Hello Doctor,I got my period delayed by 3 days...   \n",
              "2     my 9 year old daughter has what appears to be ...   \n",
              "3     I've recently been having a period after sex a...   \n",
              "4     I have been charting for a year and i have bee...   \n",
              "...                                                 ...   \n",
              "6309  patient: what for lesuride od 75 is prescribed...   \n",
              "6310  patient: i am a 47 yr old mum who has beimg in...   \n",
              "6311  patient: My husband has been crying quite alot...   \n",
              "6312  patient: Hello. I started taking 100 mg Zoloft...   \n",
              "6313  patient: hellothis is tabish here i am 28 male...   \n",
              "\n",
              "                                        Doctor dialogue Patient gender  \\\n",
              "0      Hello,,Itching after masturbating is due to t...           Male   \n",
              "1     you should visit your   gynecologist  and get ...         Female   \n",
              "2     Mouth ulcers are usually suggestive of inter-c...         Female   \n",
              "3     The progestin-only pill is better than regular...         Female   \n",
              "4     Hi there, I have understood your concern. I wi...         Female   \n",
              "...                                                 ...            ...   \n",
              "6309  doctor: Thanks for using healthcaremagic.Lesur...           None   \n",
              "6310  doctor: HIThanks for using healthcare magicIn ...           None   \n",
              "6311  doctor: Hi,I do appreciate your concern for yo...           Male   \n",
              "6312  doctor: Hi,Thanks for choosing Healthcaremagic...           None   \n",
              "6313  doctor: Hi, Thanks for the query under HCM for...           Male   \n",
              "\n",
              "     Patient age group       Emotion                               Tag 1  \\\n",
              "0                 None         Other                            Sexology   \n",
              "1                 None         Other  obstetrics and gynecology (OB-GYN)   \n",
              "2                Child         Other                                 ENT   \n",
              "3                 None          Fear  obstetrics and gynecology (OB-GYN)   \n",
              "4                 None          Fear  obstetrics and gynecology (OB-GYN)   \n",
              "...                ...           ...                                 ...   \n",
              "6309              None         Other                          Psychology   \n",
              "6310  Middle Age Adult        Sorrow                          Psychology   \n",
              "6311             Adult        Sorrow                          Psychology   \n",
              "6312              None  Disappointed                          Psychology   \n",
              "6313             Adult           NaN                            Sexology   \n",
              "\n",
              "            Tag 2         Tag 3  \n",
              "0             NaN           NaN  \n",
              "1             NaN           NaN  \n",
              "2     Paediatrics  Pharmacology  \n",
              "3             NaN           NaN  \n",
              "4             NaN           NaN  \n",
              "...           ...           ...  \n",
              "6309          NaN           NaN  \n",
              "6310          NaN           NaN  \n",
              "6311          NaN           NaN  \n",
              "6312          NaN           NaN  \n",
              "6313          NaN           NaN  \n",
              "\n",
              "[6314 rows x 9 columns]"
            ],
            "text/html": [
              "\n",
              "  <div id=\"df-0b9a78b7-91ea-4128-a7d0-6ddb7f1908c0\">\n",
              "    <div class=\"colab-df-container\">\n",
              "      <div>\n",
              "<style scoped>\n",
              "    .dataframe tbody tr th:only-of-type {\n",
              "        vertical-align: middle;\n",
              "    }\n",
              "\n",
              "    .dataframe tbody tr th {\n",
              "        vertical-align: top;\n",
              "    }\n",
              "\n",
              "    .dataframe thead th {\n",
              "        text-align: right;\n",
              "    }\n",
              "</style>\n",
              "<table border=\"1\" class=\"dataframe\">\n",
              "  <thead>\n",
              "    <tr style=\"text-align: right;\">\n",
              "      <th></th>\n",
              "      <th>Description</th>\n",
              "      <th>Patient dialogue</th>\n",
              "      <th>Doctor dialogue</th>\n",
              "      <th>Patient gender</th>\n",
              "      <th>Patient age group</th>\n",
              "      <th>Emotion</th>\n",
              "      <th>Tag 1</th>\n",
              "      <th>Tag 2</th>\n",
              "      <th>Tag 3</th>\n",
              "    </tr>\n",
              "  </thead>\n",
              "  <tbody>\n",
              "    <tr>\n",
              "      <th>0</th>\n",
              "      <td>Why am i having itchy feeling in tip of penis ...</td>\n",
              "      <td>Hi. After i masturbate. I sometimes have an i...</td>\n",
              "      <td>Hello,,Itching after masturbating is due to t...</td>\n",
              "      <td>Male</td>\n",
              "      <td>None</td>\n",
              "      <td>Other</td>\n",
              "      <td>Sexology</td>\n",
              "      <td>NaN</td>\n",
              "      <td>NaN</td>\n",
              "    </tr>\n",
              "    <tr>\n",
              "      <th>1</th>\n",
              "      <td>What are the early signs and symptoms of pregn...</td>\n",
              "      <td>Hello Doctor,I got my period delayed by 3 days...</td>\n",
              "      <td>you should visit your   gynecologist  and get ...</td>\n",
              "      <td>Female</td>\n",
              "      <td>None</td>\n",
              "      <td>Other</td>\n",
              "      <td>obstetrics and gynecology (OB-GYN)</td>\n",
              "      <td>NaN</td>\n",
              "      <td>NaN</td>\n",
              "    </tr>\n",
              "    <tr>\n",
              "      <th>2</th>\n",
              "      <td>What is the cure for ulcer inside nose and goo...</td>\n",
              "      <td>my 9 year old daughter has what appears to be ...</td>\n",
              "      <td>Mouth ulcers are usually suggestive of inter-c...</td>\n",
              "      <td>Female</td>\n",
              "      <td>Child</td>\n",
              "      <td>Other</td>\n",
              "      <td>ENT</td>\n",
              "      <td>Paediatrics</td>\n",
              "      <td>Pharmacology</td>\n",
              "    </tr>\n",
              "    <tr>\n",
              "      <th>3</th>\n",
              "      <td>Is Mini pills safe to use?</td>\n",
              "      <td>I've recently been having a period after sex a...</td>\n",
              "      <td>The progestin-only pill is better than regular...</td>\n",
              "      <td>Female</td>\n",
              "      <td>None</td>\n",
              "      <td>Fear</td>\n",
              "      <td>obstetrics and gynecology (OB-GYN)</td>\n",
              "      <td>NaN</td>\n",
              "      <td>NaN</td>\n",
              "    </tr>\n",
              "    <tr>\n",
              "      <th>4</th>\n",
              "      <td>Is low basal body temperature a sign of ovulat...</td>\n",
              "      <td>I have been charting for a year and i have bee...</td>\n",
              "      <td>Hi there, I have understood your concern. I wi...</td>\n",
              "      <td>Female</td>\n",
              "      <td>None</td>\n",
              "      <td>Fear</td>\n",
              "      <td>obstetrics and gynecology (OB-GYN)</td>\n",
              "      <td>NaN</td>\n",
              "      <td>NaN</td>\n",
              "    </tr>\n",
              "    <tr>\n",
              "      <th>...</th>\n",
              "      <td>...</td>\n",
              "      <td>...</td>\n",
              "      <td>...</td>\n",
              "      <td>...</td>\n",
              "      <td>...</td>\n",
              "      <td>...</td>\n",
              "      <td>...</td>\n",
              "      <td>...</td>\n",
              "      <td>...</td>\n",
              "    </tr>\n",
              "    <tr>\n",
              "      <th>6309</th>\n",
              "      <td>what for lesuride od 75 is prescribed for what??</td>\n",
              "      <td>patient: what for lesuride od 75 is prescribed...</td>\n",
              "      <td>doctor: Thanks for using healthcaremagic.Lesur...</td>\n",
              "      <td>None</td>\n",
              "      <td>None</td>\n",
              "      <td>Other</td>\n",
              "      <td>Psychology</td>\n",
              "      <td>NaN</td>\n",
              "      <td>NaN</td>\n",
              "    </tr>\n",
              "    <tr>\n",
              "      <th>6310</th>\n",
              "      <td>I need to get off injecting the drug</td>\n",
              "      <td>patient: i am a 47 yr old mum who has beimg in...</td>\n",
              "      <td>doctor: HIThanks for using healthcare magicIn ...</td>\n",
              "      <td>None</td>\n",
              "      <td>Middle Age Adult</td>\n",
              "      <td>Sorrow</td>\n",
              "      <td>Psychology</td>\n",
              "      <td>NaN</td>\n",
              "      <td>NaN</td>\n",
              "    </tr>\n",
              "    <tr>\n",
              "      <th>6311</th>\n",
              "      <td>How to relieve the severe stress?</td>\n",
              "      <td>patient: My husband has been crying quite alot...</td>\n",
              "      <td>doctor: Hi,I do appreciate your concern for yo...</td>\n",
              "      <td>Male</td>\n",
              "      <td>Adult</td>\n",
              "      <td>Sorrow</td>\n",
              "      <td>Psychology</td>\n",
              "      <td>NaN</td>\n",
              "      <td>NaN</td>\n",
              "    </tr>\n",
              "    <tr>\n",
              "      <th>6312</th>\n",
              "      <td>How long does withdrawal symptoms of Zoloft ex...</td>\n",
              "      <td>patient: Hello. I started taking 100 mg Zoloft...</td>\n",
              "      <td>doctor: Hi,Thanks for choosing Healthcaremagic...</td>\n",
              "      <td>None</td>\n",
              "      <td>None</td>\n",
              "      <td>Disappointed</td>\n",
              "      <td>Psychology</td>\n",
              "      <td>NaN</td>\n",
              "      <td>NaN</td>\n",
              "    </tr>\n",
              "    <tr>\n",
              "      <th>6313</th>\n",
              "      <td>What is the best treatment to get pregnant?</td>\n",
              "      <td>patient: hellothis is tabish here i am 28 male...</td>\n",
              "      <td>doctor: Hi, Thanks for the query under HCM for...</td>\n",
              "      <td>Male</td>\n",
              "      <td>Adult</td>\n",
              "      <td>NaN</td>\n",
              "      <td>Sexology</td>\n",
              "      <td>NaN</td>\n",
              "      <td>NaN</td>\n",
              "    </tr>\n",
              "  </tbody>\n",
              "</table>\n",
              "<p>6314 rows × 9 columns</p>\n",
              "</div>\n",
              "      <button class=\"colab-df-convert\" onclick=\"convertToInteractive('df-0b9a78b7-91ea-4128-a7d0-6ddb7f1908c0')\"\n",
              "              title=\"Convert this dataframe to an interactive table.\"\n",
              "              style=\"display:none;\">\n",
              "        \n",
              "  <svg xmlns=\"http://www.w3.org/2000/svg\" height=\"24px\"viewBox=\"0 0 24 24\"\n",
              "       width=\"24px\">\n",
              "    <path d=\"M0 0h24v24H0V0z\" fill=\"none\"/>\n",
              "    <path d=\"M18.56 5.44l.94 2.06.94-2.06 2.06-.94-2.06-.94-.94-2.06-.94 2.06-2.06.94zm-11 1L8.5 8.5l.94-2.06 2.06-.94-2.06-.94L8.5 2.5l-.94 2.06-2.06.94zm10 10l.94 2.06.94-2.06 2.06-.94-2.06-.94-.94-2.06-.94 2.06-2.06.94z\"/><path d=\"M17.41 7.96l-1.37-1.37c-.4-.4-.92-.59-1.43-.59-.52 0-1.04.2-1.43.59L10.3 9.45l-7.72 7.72c-.78.78-.78 2.05 0 2.83L4 21.41c.39.39.9.59 1.41.59.51 0 1.02-.2 1.41-.59l7.78-7.78 2.81-2.81c.8-.78.8-2.07 0-2.86zM5.41 20L4 18.59l7.72-7.72 1.47 1.35L5.41 20z\"/>\n",
              "  </svg>\n",
              "      </button>\n",
              "      \n",
              "  <style>\n",
              "    .colab-df-container {\n",
              "      display:flex;\n",
              "      flex-wrap:wrap;\n",
              "      gap: 12px;\n",
              "    }\n",
              "\n",
              "    .colab-df-convert {\n",
              "      background-color: #E8F0FE;\n",
              "      border: none;\n",
              "      border-radius: 50%;\n",
              "      cursor: pointer;\n",
              "      display: none;\n",
              "      fill: #1967D2;\n",
              "      height: 32px;\n",
              "      padding: 0 0 0 0;\n",
              "      width: 32px;\n",
              "    }\n",
              "\n",
              "    .colab-df-convert:hover {\n",
              "      background-color: #E2EBFA;\n",
              "      box-shadow: 0px 1px 2px rgba(60, 64, 67, 0.3), 0px 1px 3px 1px rgba(60, 64, 67, 0.15);\n",
              "      fill: #174EA6;\n",
              "    }\n",
              "\n",
              "    [theme=dark] .colab-df-convert {\n",
              "      background-color: #3B4455;\n",
              "      fill: #D2E3FC;\n",
              "    }\n",
              "\n",
              "    [theme=dark] .colab-df-convert:hover {\n",
              "      background-color: #434B5C;\n",
              "      box-shadow: 0px 1px 3px 1px rgba(0, 0, 0, 0.15);\n",
              "      filter: drop-shadow(0px 1px 2px rgba(0, 0, 0, 0.3));\n",
              "      fill: #FFFFFF;\n",
              "    }\n",
              "  </style>\n",
              "\n",
              "      <script>\n",
              "        const buttonEl =\n",
              "          document.querySelector('#df-0b9a78b7-91ea-4128-a7d0-6ddb7f1908c0 button.colab-df-convert');\n",
              "        buttonEl.style.display =\n",
              "          google.colab.kernel.accessAllowed ? 'block' : 'none';\n",
              "\n",
              "        async function convertToInteractive(key) {\n",
              "          const element = document.querySelector('#df-0b9a78b7-91ea-4128-a7d0-6ddb7f1908c0');\n",
              "          const dataTable =\n",
              "            await google.colab.kernel.invokeFunction('convertToInteractive',\n",
              "                                                     [key], {});\n",
              "          if (!dataTable) return;\n",
              "\n",
              "          const docLinkHtml = 'Like what you see? Visit the ' +\n",
              "            '<a target=\"_blank\" href=https://colab.research.google.com/notebooks/data_table.ipynb>data table notebook</a>'\n",
              "            + ' to learn more about interactive tables.';\n",
              "          element.innerHTML = '';\n",
              "          dataTable['output_type'] = 'display_data';\n",
              "          await google.colab.output.renderOutput(dataTable, element);\n",
              "          const docLink = document.createElement('div');\n",
              "          docLink.innerHTML = docLinkHtml;\n",
              "          element.appendChild(docLink);\n",
              "        }\n",
              "      </script>\n",
              "    </div>\n",
              "  </div>\n",
              "  "
            ]
          },
          "metadata": {},
          "execution_count": 37
        }
      ]
    },
    {
      "cell_type": "code",
      "source": [
        "df = final\n",
        "df=df.astype(str)\n",
        "tagging='Patient age group'\n",
        "labels = sorted(list(df[tagging].unique()))\n",
        "length = len(labels)\n",
        "label_count=df.groupby(tagging)[tagging].agg('count')\n",
        "label_count.to_numpy(dtype=int)\n",
        "label_count = np.expand_dims(label_count, axis=0)\n",
        "label_count.shape=(length,1)\n",
        "labels=np.array(labels)\n",
        "labels.shape=(length,1)\n",
        "label_count=np.column_stack((labels,label_count))\n",
        "data = pd.DataFrame(label_count, columns=['Label', 'Count'])\n",
        "convert_dict = {'Count': int}\n",
        "  \n",
        "data = data.astype(convert_dict)\n",
        "data"
      ],
      "metadata": {
        "id": "ayZDptHoUkbS",
        "outputId": "9a5d2a5f-f1be-44f9-ced9-cf87f9aa6b4e",
        "colab": {
          "base_uri": "https://localhost:8080/",
          "height": 300
        }
      },
      "execution_count": null,
      "outputs": [
        {
          "output_type": "execute_result",
          "data": {
            "text/plain": [
              "              Label  Count\n",
              "0             Adult    922\n",
              "1             Child    228\n",
              "2            Infant    167\n",
              "3  Middle Age Adult    364\n",
              "4              None   3961\n",
              "5      Senior Adult    259\n",
              "6              Teen    227\n",
              "7           Toddler    186"
            ],
            "text/html": [
              "\n",
              "  <div id=\"df-1f20856f-6735-4fbb-adfd-7d18627afabb\">\n",
              "    <div class=\"colab-df-container\">\n",
              "      <div>\n",
              "<style scoped>\n",
              "    .dataframe tbody tr th:only-of-type {\n",
              "        vertical-align: middle;\n",
              "    }\n",
              "\n",
              "    .dataframe tbody tr th {\n",
              "        vertical-align: top;\n",
              "    }\n",
              "\n",
              "    .dataframe thead th {\n",
              "        text-align: right;\n",
              "    }\n",
              "</style>\n",
              "<table border=\"1\" class=\"dataframe\">\n",
              "  <thead>\n",
              "    <tr style=\"text-align: right;\">\n",
              "      <th></th>\n",
              "      <th>Label</th>\n",
              "      <th>Count</th>\n",
              "    </tr>\n",
              "  </thead>\n",
              "  <tbody>\n",
              "    <tr>\n",
              "      <th>0</th>\n",
              "      <td>Adult</td>\n",
              "      <td>922</td>\n",
              "    </tr>\n",
              "    <tr>\n",
              "      <th>1</th>\n",
              "      <td>Child</td>\n",
              "      <td>228</td>\n",
              "    </tr>\n",
              "    <tr>\n",
              "      <th>2</th>\n",
              "      <td>Infant</td>\n",
              "      <td>167</td>\n",
              "    </tr>\n",
              "    <tr>\n",
              "      <th>3</th>\n",
              "      <td>Middle Age Adult</td>\n",
              "      <td>364</td>\n",
              "    </tr>\n",
              "    <tr>\n",
              "      <th>4</th>\n",
              "      <td>None</td>\n",
              "      <td>3961</td>\n",
              "    </tr>\n",
              "    <tr>\n",
              "      <th>5</th>\n",
              "      <td>Senior Adult</td>\n",
              "      <td>259</td>\n",
              "    </tr>\n",
              "    <tr>\n",
              "      <th>6</th>\n",
              "      <td>Teen</td>\n",
              "      <td>227</td>\n",
              "    </tr>\n",
              "    <tr>\n",
              "      <th>7</th>\n",
              "      <td>Toddler</td>\n",
              "      <td>186</td>\n",
              "    </tr>\n",
              "  </tbody>\n",
              "</table>\n",
              "</div>\n",
              "      <button class=\"colab-df-convert\" onclick=\"convertToInteractive('df-1f20856f-6735-4fbb-adfd-7d18627afabb')\"\n",
              "              title=\"Convert this dataframe to an interactive table.\"\n",
              "              style=\"display:none;\">\n",
              "        \n",
              "  <svg xmlns=\"http://www.w3.org/2000/svg\" height=\"24px\"viewBox=\"0 0 24 24\"\n",
              "       width=\"24px\">\n",
              "    <path d=\"M0 0h24v24H0V0z\" fill=\"none\"/>\n",
              "    <path d=\"M18.56 5.44l.94 2.06.94-2.06 2.06-.94-2.06-.94-.94-2.06-.94 2.06-2.06.94zm-11 1L8.5 8.5l.94-2.06 2.06-.94-2.06-.94L8.5 2.5l-.94 2.06-2.06.94zm10 10l.94 2.06.94-2.06 2.06-.94-2.06-.94-.94-2.06-.94 2.06-2.06.94z\"/><path d=\"M17.41 7.96l-1.37-1.37c-.4-.4-.92-.59-1.43-.59-.52 0-1.04.2-1.43.59L10.3 9.45l-7.72 7.72c-.78.78-.78 2.05 0 2.83L4 21.41c.39.39.9.59 1.41.59.51 0 1.02-.2 1.41-.59l7.78-7.78 2.81-2.81c.8-.78.8-2.07 0-2.86zM5.41 20L4 18.59l7.72-7.72 1.47 1.35L5.41 20z\"/>\n",
              "  </svg>\n",
              "      </button>\n",
              "      \n",
              "  <style>\n",
              "    .colab-df-container {\n",
              "      display:flex;\n",
              "      flex-wrap:wrap;\n",
              "      gap: 12px;\n",
              "    }\n",
              "\n",
              "    .colab-df-convert {\n",
              "      background-color: #E8F0FE;\n",
              "      border: none;\n",
              "      border-radius: 50%;\n",
              "      cursor: pointer;\n",
              "      display: none;\n",
              "      fill: #1967D2;\n",
              "      height: 32px;\n",
              "      padding: 0 0 0 0;\n",
              "      width: 32px;\n",
              "    }\n",
              "\n",
              "    .colab-df-convert:hover {\n",
              "      background-color: #E2EBFA;\n",
              "      box-shadow: 0px 1px 2px rgba(60, 64, 67, 0.3), 0px 1px 3px 1px rgba(60, 64, 67, 0.15);\n",
              "      fill: #174EA6;\n",
              "    }\n",
              "\n",
              "    [theme=dark] .colab-df-convert {\n",
              "      background-color: #3B4455;\n",
              "      fill: #D2E3FC;\n",
              "    }\n",
              "\n",
              "    [theme=dark] .colab-df-convert:hover {\n",
              "      background-color: #434B5C;\n",
              "      box-shadow: 0px 1px 3px 1px rgba(0, 0, 0, 0.15);\n",
              "      filter: drop-shadow(0px 1px 2px rgba(0, 0, 0, 0.3));\n",
              "      fill: #FFFFFF;\n",
              "    }\n",
              "  </style>\n",
              "\n",
              "      <script>\n",
              "        const buttonEl =\n",
              "          document.querySelector('#df-1f20856f-6735-4fbb-adfd-7d18627afabb button.colab-df-convert');\n",
              "        buttonEl.style.display =\n",
              "          google.colab.kernel.accessAllowed ? 'block' : 'none';\n",
              "\n",
              "        async function convertToInteractive(key) {\n",
              "          const element = document.querySelector('#df-1f20856f-6735-4fbb-adfd-7d18627afabb');\n",
              "          const dataTable =\n",
              "            await google.colab.kernel.invokeFunction('convertToInteractive',\n",
              "                                                     [key], {});\n",
              "          if (!dataTable) return;\n",
              "\n",
              "          const docLinkHtml = 'Like what you see? Visit the ' +\n",
              "            '<a target=\"_blank\" href=https://colab.research.google.com/notebooks/data_table.ipynb>data table notebook</a>'\n",
              "            + ' to learn more about interactive tables.';\n",
              "          element.innerHTML = '';\n",
              "          dataTable['output_type'] = 'display_data';\n",
              "          await google.colab.output.renderOutput(dataTable, element);\n",
              "          const docLink = document.createElement('div');\n",
              "          docLink.innerHTML = docLinkHtml;\n",
              "          element.appendChild(docLink);\n",
              "        }\n",
              "      </script>\n",
              "    </div>\n",
              "  </div>\n",
              "  "
            ]
          },
          "metadata": {},
          "execution_count": 38
        }
      ]
    },
    {
      "cell_type": "code",
      "source": [
        "final.drop(['Description', 'Doctor dialogue','Patient gender','Tag 2','Tag 3','Tag 1','Emotion'], axis=1, inplace=True)"
      ],
      "metadata": {
        "id": "C1WP1Pn2h7-0"
      },
      "execution_count": null,
      "outputs": []
    },
    {
      "cell_type": "code",
      "source": [
        "final "
      ],
      "metadata": {
        "id": "0LHgE28VjjZY",
        "outputId": "7ed4b2c3-5218-4883-81b6-c5aa35707245",
        "colab": {
          "base_uri": "https://localhost:8080/",
          "height": 424
        }
      },
      "execution_count": null,
      "outputs": [
        {
          "output_type": "execute_result",
          "data": {
            "text/plain": [
              "                                       Patient dialogue Patient age group\n",
              "0      Hi. After i masturbate. I sometimes have an i...              None\n",
              "1     Hello Doctor,I got my period delayed by 3 days...              None\n",
              "2     my 9 year old daughter has what appears to be ...             Child\n",
              "3     I've recently been having a period after sex a...              None\n",
              "4     I have been charting for a year and i have bee...              None\n",
              "...                                                 ...               ...\n",
              "6309  patient: what for lesuride od 75 is prescribed...              None\n",
              "6310  patient: i am a 47 yr old mum who has beimg in...  Middle Age Adult\n",
              "6311  patient: My husband has been crying quite alot...             Adult\n",
              "6312  patient: Hello. I started taking 100 mg Zoloft...              None\n",
              "6313  patient: hellothis is tabish here i am 28 male...             Adult\n",
              "\n",
              "[6314 rows x 2 columns]"
            ],
            "text/html": [
              "\n",
              "  <div id=\"df-277b2984-871b-4a23-87df-2e9ce128fbe2\">\n",
              "    <div class=\"colab-df-container\">\n",
              "      <div>\n",
              "<style scoped>\n",
              "    .dataframe tbody tr th:only-of-type {\n",
              "        vertical-align: middle;\n",
              "    }\n",
              "\n",
              "    .dataframe tbody tr th {\n",
              "        vertical-align: top;\n",
              "    }\n",
              "\n",
              "    .dataframe thead th {\n",
              "        text-align: right;\n",
              "    }\n",
              "</style>\n",
              "<table border=\"1\" class=\"dataframe\">\n",
              "  <thead>\n",
              "    <tr style=\"text-align: right;\">\n",
              "      <th></th>\n",
              "      <th>Patient dialogue</th>\n",
              "      <th>Patient age group</th>\n",
              "    </tr>\n",
              "  </thead>\n",
              "  <tbody>\n",
              "    <tr>\n",
              "      <th>0</th>\n",
              "      <td>Hi. After i masturbate. I sometimes have an i...</td>\n",
              "      <td>None</td>\n",
              "    </tr>\n",
              "    <tr>\n",
              "      <th>1</th>\n",
              "      <td>Hello Doctor,I got my period delayed by 3 days...</td>\n",
              "      <td>None</td>\n",
              "    </tr>\n",
              "    <tr>\n",
              "      <th>2</th>\n",
              "      <td>my 9 year old daughter has what appears to be ...</td>\n",
              "      <td>Child</td>\n",
              "    </tr>\n",
              "    <tr>\n",
              "      <th>3</th>\n",
              "      <td>I've recently been having a period after sex a...</td>\n",
              "      <td>None</td>\n",
              "    </tr>\n",
              "    <tr>\n",
              "      <th>4</th>\n",
              "      <td>I have been charting for a year and i have bee...</td>\n",
              "      <td>None</td>\n",
              "    </tr>\n",
              "    <tr>\n",
              "      <th>...</th>\n",
              "      <td>...</td>\n",
              "      <td>...</td>\n",
              "    </tr>\n",
              "    <tr>\n",
              "      <th>6309</th>\n",
              "      <td>patient: what for lesuride od 75 is prescribed...</td>\n",
              "      <td>None</td>\n",
              "    </tr>\n",
              "    <tr>\n",
              "      <th>6310</th>\n",
              "      <td>patient: i am a 47 yr old mum who has beimg in...</td>\n",
              "      <td>Middle Age Adult</td>\n",
              "    </tr>\n",
              "    <tr>\n",
              "      <th>6311</th>\n",
              "      <td>patient: My husband has been crying quite alot...</td>\n",
              "      <td>Adult</td>\n",
              "    </tr>\n",
              "    <tr>\n",
              "      <th>6312</th>\n",
              "      <td>patient: Hello. I started taking 100 mg Zoloft...</td>\n",
              "      <td>None</td>\n",
              "    </tr>\n",
              "    <tr>\n",
              "      <th>6313</th>\n",
              "      <td>patient: hellothis is tabish here i am 28 male...</td>\n",
              "      <td>Adult</td>\n",
              "    </tr>\n",
              "  </tbody>\n",
              "</table>\n",
              "<p>6314 rows × 2 columns</p>\n",
              "</div>\n",
              "      <button class=\"colab-df-convert\" onclick=\"convertToInteractive('df-277b2984-871b-4a23-87df-2e9ce128fbe2')\"\n",
              "              title=\"Convert this dataframe to an interactive table.\"\n",
              "              style=\"display:none;\">\n",
              "        \n",
              "  <svg xmlns=\"http://www.w3.org/2000/svg\" height=\"24px\"viewBox=\"0 0 24 24\"\n",
              "       width=\"24px\">\n",
              "    <path d=\"M0 0h24v24H0V0z\" fill=\"none\"/>\n",
              "    <path d=\"M18.56 5.44l.94 2.06.94-2.06 2.06-.94-2.06-.94-.94-2.06-.94 2.06-2.06.94zm-11 1L8.5 8.5l.94-2.06 2.06-.94-2.06-.94L8.5 2.5l-.94 2.06-2.06.94zm10 10l.94 2.06.94-2.06 2.06-.94-2.06-.94-.94-2.06-.94 2.06-2.06.94z\"/><path d=\"M17.41 7.96l-1.37-1.37c-.4-.4-.92-.59-1.43-.59-.52 0-1.04.2-1.43.59L10.3 9.45l-7.72 7.72c-.78.78-.78 2.05 0 2.83L4 21.41c.39.39.9.59 1.41.59.51 0 1.02-.2 1.41-.59l7.78-7.78 2.81-2.81c.8-.78.8-2.07 0-2.86zM5.41 20L4 18.59l7.72-7.72 1.47 1.35L5.41 20z\"/>\n",
              "  </svg>\n",
              "      </button>\n",
              "      \n",
              "  <style>\n",
              "    .colab-df-container {\n",
              "      display:flex;\n",
              "      flex-wrap:wrap;\n",
              "      gap: 12px;\n",
              "    }\n",
              "\n",
              "    .colab-df-convert {\n",
              "      background-color: #E8F0FE;\n",
              "      border: none;\n",
              "      border-radius: 50%;\n",
              "      cursor: pointer;\n",
              "      display: none;\n",
              "      fill: #1967D2;\n",
              "      height: 32px;\n",
              "      padding: 0 0 0 0;\n",
              "      width: 32px;\n",
              "    }\n",
              "\n",
              "    .colab-df-convert:hover {\n",
              "      background-color: #E2EBFA;\n",
              "      box-shadow: 0px 1px 2px rgba(60, 64, 67, 0.3), 0px 1px 3px 1px rgba(60, 64, 67, 0.15);\n",
              "      fill: #174EA6;\n",
              "    }\n",
              "\n",
              "    [theme=dark] .colab-df-convert {\n",
              "      background-color: #3B4455;\n",
              "      fill: #D2E3FC;\n",
              "    }\n",
              "\n",
              "    [theme=dark] .colab-df-convert:hover {\n",
              "      background-color: #434B5C;\n",
              "      box-shadow: 0px 1px 3px 1px rgba(0, 0, 0, 0.15);\n",
              "      filter: drop-shadow(0px 1px 2px rgba(0, 0, 0, 0.3));\n",
              "      fill: #FFFFFF;\n",
              "    }\n",
              "  </style>\n",
              "\n",
              "      <script>\n",
              "        const buttonEl =\n",
              "          document.querySelector('#df-277b2984-871b-4a23-87df-2e9ce128fbe2 button.colab-df-convert');\n",
              "        buttonEl.style.display =\n",
              "          google.colab.kernel.accessAllowed ? 'block' : 'none';\n",
              "\n",
              "        async function convertToInteractive(key) {\n",
              "          const element = document.querySelector('#df-277b2984-871b-4a23-87df-2e9ce128fbe2');\n",
              "          const dataTable =\n",
              "            await google.colab.kernel.invokeFunction('convertToInteractive',\n",
              "                                                     [key], {});\n",
              "          if (!dataTable) return;\n",
              "\n",
              "          const docLinkHtml = 'Like what you see? Visit the ' +\n",
              "            '<a target=\"_blank\" href=https://colab.research.google.com/notebooks/data_table.ipynb>data table notebook</a>'\n",
              "            + ' to learn more about interactive tables.';\n",
              "          element.innerHTML = '';\n",
              "          dataTable['output_type'] = 'display_data';\n",
              "          await google.colab.output.renderOutput(dataTable, element);\n",
              "          const docLink = document.createElement('div');\n",
              "          docLink.innerHTML = docLinkHtml;\n",
              "          element.appendChild(docLink);\n",
              "        }\n",
              "      </script>\n",
              "    </div>\n",
              "  </div>\n",
              "  "
            ]
          },
          "metadata": {},
          "execution_count": 40
        }
      ]
    },
    {
      "cell_type": "code",
      "source": [
        "final['Patient age group'].unique()"
      ],
      "metadata": {
        "id": "UGMGIV4HbRTG",
        "outputId": "4bc734e0-0f70-46c0-aa91-7408dfaaee2e",
        "colab": {
          "base_uri": "https://localhost:8080/"
        }
      },
      "execution_count": null,
      "outputs": [
        {
          "output_type": "execute_result",
          "data": {
            "text/plain": [
              "array(['None', 'Child', 'Toddler', 'Middle Age Adult', 'Adult',\n",
              "       'Senior Adult', 'Teen', 'Infant'], dtype=object)"
            ]
          },
          "metadata": {},
          "execution_count": 41
        }
      ]
    },
    {
      "cell_type": "code",
      "source": [
        "values=['Guilt','Lonely','NaN','nan']\n",
        "final = final[final['Emotion'].isin(values) == False"
      ],
      "metadata": {
        "id": "hp6D0yOlQ93H"
      },
      "execution_count": null,
      "outputs": []
    },
    {
      "cell_type": "code",
      "source": [
        "classes=sorted(list(final['Patient age group'].unique()))"
      ],
      "metadata": {
        "id": "yFqv5R6rTAXb"
      },
      "execution_count": null,
      "outputs": []
    },
    {
      "cell_type": "code",
      "source": [
        "final"
      ],
      "metadata": {
        "id": "F_-DLPlCRaFv",
        "outputId": "2b385fb3-44c3-4156-e71c-242a834244bc",
        "colab": {
          "base_uri": "https://localhost:8080/",
          "height": 424
        }
      },
      "execution_count": null,
      "outputs": [
        {
          "output_type": "execute_result",
          "data": {
            "text/plain": [
              "                                       Patient dialogue Patient age group\n",
              "0      Hi. After i masturbate. I sometimes have an i...              None\n",
              "1     Hello Doctor,I got my period delayed by 3 days...              None\n",
              "2     my 9 year old daughter has what appears to be ...             Child\n",
              "3     I've recently been having a period after sex a...              None\n",
              "4     I have been charting for a year and i have bee...              None\n",
              "...                                                 ...               ...\n",
              "6309  patient: what for lesuride od 75 is prescribed...              None\n",
              "6310  patient: i am a 47 yr old mum who has beimg in...  Middle Age Adult\n",
              "6311  patient: My husband has been crying quite alot...             Adult\n",
              "6312  patient: Hello. I started taking 100 mg Zoloft...              None\n",
              "6313  patient: hellothis is tabish here i am 28 male...             Adult\n",
              "\n",
              "[6314 rows x 2 columns]"
            ],
            "text/html": [
              "\n",
              "  <div id=\"df-1d0478c2-bc23-4aec-9cf2-14844e518d6e\">\n",
              "    <div class=\"colab-df-container\">\n",
              "      <div>\n",
              "<style scoped>\n",
              "    .dataframe tbody tr th:only-of-type {\n",
              "        vertical-align: middle;\n",
              "    }\n",
              "\n",
              "    .dataframe tbody tr th {\n",
              "        vertical-align: top;\n",
              "    }\n",
              "\n",
              "    .dataframe thead th {\n",
              "        text-align: right;\n",
              "    }\n",
              "</style>\n",
              "<table border=\"1\" class=\"dataframe\">\n",
              "  <thead>\n",
              "    <tr style=\"text-align: right;\">\n",
              "      <th></th>\n",
              "      <th>Patient dialogue</th>\n",
              "      <th>Patient age group</th>\n",
              "    </tr>\n",
              "  </thead>\n",
              "  <tbody>\n",
              "    <tr>\n",
              "      <th>0</th>\n",
              "      <td>Hi. After i masturbate. I sometimes have an i...</td>\n",
              "      <td>None</td>\n",
              "    </tr>\n",
              "    <tr>\n",
              "      <th>1</th>\n",
              "      <td>Hello Doctor,I got my period delayed by 3 days...</td>\n",
              "      <td>None</td>\n",
              "    </tr>\n",
              "    <tr>\n",
              "      <th>2</th>\n",
              "      <td>my 9 year old daughter has what appears to be ...</td>\n",
              "      <td>Child</td>\n",
              "    </tr>\n",
              "    <tr>\n",
              "      <th>3</th>\n",
              "      <td>I've recently been having a period after sex a...</td>\n",
              "      <td>None</td>\n",
              "    </tr>\n",
              "    <tr>\n",
              "      <th>4</th>\n",
              "      <td>I have been charting for a year and i have bee...</td>\n",
              "      <td>None</td>\n",
              "    </tr>\n",
              "    <tr>\n",
              "      <th>...</th>\n",
              "      <td>...</td>\n",
              "      <td>...</td>\n",
              "    </tr>\n",
              "    <tr>\n",
              "      <th>6309</th>\n",
              "      <td>patient: what for lesuride od 75 is prescribed...</td>\n",
              "      <td>None</td>\n",
              "    </tr>\n",
              "    <tr>\n",
              "      <th>6310</th>\n",
              "      <td>patient: i am a 47 yr old mum who has beimg in...</td>\n",
              "      <td>Middle Age Adult</td>\n",
              "    </tr>\n",
              "    <tr>\n",
              "      <th>6311</th>\n",
              "      <td>patient: My husband has been crying quite alot...</td>\n",
              "      <td>Adult</td>\n",
              "    </tr>\n",
              "    <tr>\n",
              "      <th>6312</th>\n",
              "      <td>patient: Hello. I started taking 100 mg Zoloft...</td>\n",
              "      <td>None</td>\n",
              "    </tr>\n",
              "    <tr>\n",
              "      <th>6313</th>\n",
              "      <td>patient: hellothis is tabish here i am 28 male...</td>\n",
              "      <td>Adult</td>\n",
              "    </tr>\n",
              "  </tbody>\n",
              "</table>\n",
              "<p>6314 rows × 2 columns</p>\n",
              "</div>\n",
              "      <button class=\"colab-df-convert\" onclick=\"convertToInteractive('df-1d0478c2-bc23-4aec-9cf2-14844e518d6e')\"\n",
              "              title=\"Convert this dataframe to an interactive table.\"\n",
              "              style=\"display:none;\">\n",
              "        \n",
              "  <svg xmlns=\"http://www.w3.org/2000/svg\" height=\"24px\"viewBox=\"0 0 24 24\"\n",
              "       width=\"24px\">\n",
              "    <path d=\"M0 0h24v24H0V0z\" fill=\"none\"/>\n",
              "    <path d=\"M18.56 5.44l.94 2.06.94-2.06 2.06-.94-2.06-.94-.94-2.06-.94 2.06-2.06.94zm-11 1L8.5 8.5l.94-2.06 2.06-.94-2.06-.94L8.5 2.5l-.94 2.06-2.06.94zm10 10l.94 2.06.94-2.06 2.06-.94-2.06-.94-.94-2.06-.94 2.06-2.06.94z\"/><path d=\"M17.41 7.96l-1.37-1.37c-.4-.4-.92-.59-1.43-.59-.52 0-1.04.2-1.43.59L10.3 9.45l-7.72 7.72c-.78.78-.78 2.05 0 2.83L4 21.41c.39.39.9.59 1.41.59.51 0 1.02-.2 1.41-.59l7.78-7.78 2.81-2.81c.8-.78.8-2.07 0-2.86zM5.41 20L4 18.59l7.72-7.72 1.47 1.35L5.41 20z\"/>\n",
              "  </svg>\n",
              "      </button>\n",
              "      \n",
              "  <style>\n",
              "    .colab-df-container {\n",
              "      display:flex;\n",
              "      flex-wrap:wrap;\n",
              "      gap: 12px;\n",
              "    }\n",
              "\n",
              "    .colab-df-convert {\n",
              "      background-color: #E8F0FE;\n",
              "      border: none;\n",
              "      border-radius: 50%;\n",
              "      cursor: pointer;\n",
              "      display: none;\n",
              "      fill: #1967D2;\n",
              "      height: 32px;\n",
              "      padding: 0 0 0 0;\n",
              "      width: 32px;\n",
              "    }\n",
              "\n",
              "    .colab-df-convert:hover {\n",
              "      background-color: #E2EBFA;\n",
              "      box-shadow: 0px 1px 2px rgba(60, 64, 67, 0.3), 0px 1px 3px 1px rgba(60, 64, 67, 0.15);\n",
              "      fill: #174EA6;\n",
              "    }\n",
              "\n",
              "    [theme=dark] .colab-df-convert {\n",
              "      background-color: #3B4455;\n",
              "      fill: #D2E3FC;\n",
              "    }\n",
              "\n",
              "    [theme=dark] .colab-df-convert:hover {\n",
              "      background-color: #434B5C;\n",
              "      box-shadow: 0px 1px 3px 1px rgba(0, 0, 0, 0.15);\n",
              "      filter: drop-shadow(0px 1px 2px rgba(0, 0, 0, 0.3));\n",
              "      fill: #FFFFFF;\n",
              "    }\n",
              "  </style>\n",
              "\n",
              "      <script>\n",
              "        const buttonEl =\n",
              "          document.querySelector('#df-1d0478c2-bc23-4aec-9cf2-14844e518d6e button.colab-df-convert');\n",
              "        buttonEl.style.display =\n",
              "          google.colab.kernel.accessAllowed ? 'block' : 'none';\n",
              "\n",
              "        async function convertToInteractive(key) {\n",
              "          const element = document.querySelector('#df-1d0478c2-bc23-4aec-9cf2-14844e518d6e');\n",
              "          const dataTable =\n",
              "            await google.colab.kernel.invokeFunction('convertToInteractive',\n",
              "                                                     [key], {});\n",
              "          if (!dataTable) return;\n",
              "\n",
              "          const docLinkHtml = 'Like what you see? Visit the ' +\n",
              "            '<a target=\"_blank\" href=https://colab.research.google.com/notebooks/data_table.ipynb>data table notebook</a>'\n",
              "            + ' to learn more about interactive tables.';\n",
              "          element.innerHTML = '';\n",
              "          dataTable['output_type'] = 'display_data';\n",
              "          await google.colab.output.renderOutput(dataTable, element);\n",
              "          const docLink = document.createElement('div');\n",
              "          docLink.innerHTML = docLinkHtml;\n",
              "          element.appendChild(docLink);\n",
              "        }\n",
              "      </script>\n",
              "    </div>\n",
              "  </div>\n",
              "  "
            ]
          },
          "metadata": {},
          "execution_count": 43
        }
      ]
    },
    {
      "cell_type": "code",
      "source": [
        "df = final\n",
        "df=df.astype(str)\n",
        "tagging='Patient age group'\n",
        "labels = sorted(list(df[tagging].unique()))\n",
        "length = len(labels)\n",
        "label_count=df.groupby(tagging)[tagging].agg('count')\n",
        "label_count.to_numpy(dtype=int)\n",
        "label_count = np.expand_dims(label_count, axis=0)\n",
        "label_count.shape=(length,1)\n",
        "labels=np.array(labels)\n",
        "labels.shape=(length,1)\n",
        "label_count=np.column_stack((labels,label_count))\n",
        "data = pd.DataFrame(label_count, columns=['Label', 'Count'])\n",
        "convert_dict = {'Count': int}\n",
        "  \n",
        "data = data.astype(convert_dict)\n",
        "data"
      ],
      "metadata": {
        "id": "mb_Tb-8YR6OD",
        "outputId": "ea5b0223-1530-40b1-8fca-b7d4ea48eaa6",
        "colab": {
          "base_uri": "https://localhost:8080/",
          "height": 300
        }
      },
      "execution_count": null,
      "outputs": [
        {
          "output_type": "execute_result",
          "data": {
            "text/plain": [
              "              Label  Count\n",
              "0             Adult    922\n",
              "1             Child    228\n",
              "2            Infant    167\n",
              "3  Middle Age Adult    364\n",
              "4              None   3961\n",
              "5      Senior Adult    259\n",
              "6              Teen    227\n",
              "7           Toddler    186"
            ],
            "text/html": [
              "\n",
              "  <div id=\"df-2e203cf6-f218-4acd-a078-b98e991d69b6\">\n",
              "    <div class=\"colab-df-container\">\n",
              "      <div>\n",
              "<style scoped>\n",
              "    .dataframe tbody tr th:only-of-type {\n",
              "        vertical-align: middle;\n",
              "    }\n",
              "\n",
              "    .dataframe tbody tr th {\n",
              "        vertical-align: top;\n",
              "    }\n",
              "\n",
              "    .dataframe thead th {\n",
              "        text-align: right;\n",
              "    }\n",
              "</style>\n",
              "<table border=\"1\" class=\"dataframe\">\n",
              "  <thead>\n",
              "    <tr style=\"text-align: right;\">\n",
              "      <th></th>\n",
              "      <th>Label</th>\n",
              "      <th>Count</th>\n",
              "    </tr>\n",
              "  </thead>\n",
              "  <tbody>\n",
              "    <tr>\n",
              "      <th>0</th>\n",
              "      <td>Adult</td>\n",
              "      <td>922</td>\n",
              "    </tr>\n",
              "    <tr>\n",
              "      <th>1</th>\n",
              "      <td>Child</td>\n",
              "      <td>228</td>\n",
              "    </tr>\n",
              "    <tr>\n",
              "      <th>2</th>\n",
              "      <td>Infant</td>\n",
              "      <td>167</td>\n",
              "    </tr>\n",
              "    <tr>\n",
              "      <th>3</th>\n",
              "      <td>Middle Age Adult</td>\n",
              "      <td>364</td>\n",
              "    </tr>\n",
              "    <tr>\n",
              "      <th>4</th>\n",
              "      <td>None</td>\n",
              "      <td>3961</td>\n",
              "    </tr>\n",
              "    <tr>\n",
              "      <th>5</th>\n",
              "      <td>Senior Adult</td>\n",
              "      <td>259</td>\n",
              "    </tr>\n",
              "    <tr>\n",
              "      <th>6</th>\n",
              "      <td>Teen</td>\n",
              "      <td>227</td>\n",
              "    </tr>\n",
              "    <tr>\n",
              "      <th>7</th>\n",
              "      <td>Toddler</td>\n",
              "      <td>186</td>\n",
              "    </tr>\n",
              "  </tbody>\n",
              "</table>\n",
              "</div>\n",
              "      <button class=\"colab-df-convert\" onclick=\"convertToInteractive('df-2e203cf6-f218-4acd-a078-b98e991d69b6')\"\n",
              "              title=\"Convert this dataframe to an interactive table.\"\n",
              "              style=\"display:none;\">\n",
              "        \n",
              "  <svg xmlns=\"http://www.w3.org/2000/svg\" height=\"24px\"viewBox=\"0 0 24 24\"\n",
              "       width=\"24px\">\n",
              "    <path d=\"M0 0h24v24H0V0z\" fill=\"none\"/>\n",
              "    <path d=\"M18.56 5.44l.94 2.06.94-2.06 2.06-.94-2.06-.94-.94-2.06-.94 2.06-2.06.94zm-11 1L8.5 8.5l.94-2.06 2.06-.94-2.06-.94L8.5 2.5l-.94 2.06-2.06.94zm10 10l.94 2.06.94-2.06 2.06-.94-2.06-.94-.94-2.06-.94 2.06-2.06.94z\"/><path d=\"M17.41 7.96l-1.37-1.37c-.4-.4-.92-.59-1.43-.59-.52 0-1.04.2-1.43.59L10.3 9.45l-7.72 7.72c-.78.78-.78 2.05 0 2.83L4 21.41c.39.39.9.59 1.41.59.51 0 1.02-.2 1.41-.59l7.78-7.78 2.81-2.81c.8-.78.8-2.07 0-2.86zM5.41 20L4 18.59l7.72-7.72 1.47 1.35L5.41 20z\"/>\n",
              "  </svg>\n",
              "      </button>\n",
              "      \n",
              "  <style>\n",
              "    .colab-df-container {\n",
              "      display:flex;\n",
              "      flex-wrap:wrap;\n",
              "      gap: 12px;\n",
              "    }\n",
              "\n",
              "    .colab-df-convert {\n",
              "      background-color: #E8F0FE;\n",
              "      border: none;\n",
              "      border-radius: 50%;\n",
              "      cursor: pointer;\n",
              "      display: none;\n",
              "      fill: #1967D2;\n",
              "      height: 32px;\n",
              "      padding: 0 0 0 0;\n",
              "      width: 32px;\n",
              "    }\n",
              "\n",
              "    .colab-df-convert:hover {\n",
              "      background-color: #E2EBFA;\n",
              "      box-shadow: 0px 1px 2px rgba(60, 64, 67, 0.3), 0px 1px 3px 1px rgba(60, 64, 67, 0.15);\n",
              "      fill: #174EA6;\n",
              "    }\n",
              "\n",
              "    [theme=dark] .colab-df-convert {\n",
              "      background-color: #3B4455;\n",
              "      fill: #D2E3FC;\n",
              "    }\n",
              "\n",
              "    [theme=dark] .colab-df-convert:hover {\n",
              "      background-color: #434B5C;\n",
              "      box-shadow: 0px 1px 3px 1px rgba(0, 0, 0, 0.15);\n",
              "      filter: drop-shadow(0px 1px 2px rgba(0, 0, 0, 0.3));\n",
              "      fill: #FFFFFF;\n",
              "    }\n",
              "  </style>\n",
              "\n",
              "      <script>\n",
              "        const buttonEl =\n",
              "          document.querySelector('#df-2e203cf6-f218-4acd-a078-b98e991d69b6 button.colab-df-convert');\n",
              "        buttonEl.style.display =\n",
              "          google.colab.kernel.accessAllowed ? 'block' : 'none';\n",
              "\n",
              "        async function convertToInteractive(key) {\n",
              "          const element = document.querySelector('#df-2e203cf6-f218-4acd-a078-b98e991d69b6');\n",
              "          const dataTable =\n",
              "            await google.colab.kernel.invokeFunction('convertToInteractive',\n",
              "                                                     [key], {});\n",
              "          if (!dataTable) return;\n",
              "\n",
              "          const docLinkHtml = 'Like what you see? Visit the ' +\n",
              "            '<a target=\"_blank\" href=https://colab.research.google.com/notebooks/data_table.ipynb>data table notebook</a>'\n",
              "            + ' to learn more about interactive tables.';\n",
              "          element.innerHTML = '';\n",
              "          dataTable['output_type'] = 'display_data';\n",
              "          await google.colab.output.renderOutput(dataTable, element);\n",
              "          const docLink = document.createElement('div');\n",
              "          docLink.innerHTML = docLinkHtml;\n",
              "          element.appendChild(docLink);\n",
              "        }\n",
              "      </script>\n",
              "    </div>\n",
              "  </div>\n",
              "  "
            ]
          },
          "metadata": {},
          "execution_count": 45
        }
      ]
    },
    {
      "cell_type": "code",
      "source": [
        "final=final. dropna()"
      ],
      "metadata": {
        "id": "3horpUM0SQ1f"
      },
      "execution_count": null,
      "outputs": []
    },
    {
      "cell_type": "code",
      "source": [
        "X=final.iloc[:,0]\n",
        "y=final.iloc[:,1]"
      ],
      "metadata": {
        "id": "hq8ebA6QkYnc"
      },
      "execution_count": null,
      "outputs": []
    },
    {
      "cell_type": "code",
      "source": [
        "lst = list(final['Patient age group'].unique())\n",
        "len(lst)"
      ],
      "metadata": {
        "id": "WkjlKk1etiI2",
        "outputId": "dce2dfcf-27d6-4c9b-a252-f8d7442d6898",
        "colab": {
          "base_uri": "https://localhost:8080/"
        }
      },
      "execution_count": null,
      "outputs": [
        {
          "output_type": "execute_result",
          "data": {
            "text/plain": [
              "8"
            ]
          },
          "metadata": {},
          "execution_count": 52
        }
      ]
    },
    {
      "cell_type": "code",
      "source": [
        "x_train, x_test, y_train, y_test = train_test_split(X, y, test_size=0.2,stratify=y)"
      ],
      "metadata": {
        "id": "Qfhbkqoxlyzk"
      },
      "execution_count": null,
      "outputs": []
    },
    {
      "cell_type": "code",
      "source": [
        "x_train"
      ],
      "metadata": {
        "id": "e9PZ5cL0lHgK",
        "outputId": "1817ad8a-632b-4863-87e4-292f92344907",
        "colab": {
          "base_uri": "https://localhost:8080/"
        }
      },
      "execution_count": null,
      "outputs": [
        {
          "output_type": "execute_result",
          "data": {
            "text/plain": [
              "4591    patient: I would like to know if my boyfriend ...\n",
              "2460    Hello doctor,I have numbness in my right side ...\n",
              "6050    patient: About 30 minutes ago, I noticed that ...\n",
              "3524    Hi I ve been having wierd feelings around my b...\n",
              "917     Hi I have severe knee pain and am stiff all ov...\n",
              "                              ...                        \n",
              "3571    Hi doctor,I was recently diagnosed to be diabe...\n",
              "6074    patient: hi Iam taking nano leo capsules and r...\n",
              "344                  What s advices about smoking sheesha\n",
              "2300    I have carried a test for liver profile and th...\n",
              "2389    well. i ve been experiencing weird feelings in...\n",
              "Name: Patient dialogue, Length: 5051, dtype: object"
            ]
          },
          "metadata": {},
          "execution_count": 54
        }
      ]
    },
    {
      "cell_type": "code",
      "execution_count": null,
      "metadata": {
        "id": "XXqb7QxsmrQu"
      },
      "outputs": [],
      "source": [
        "X_train_patient_dialogue = x_train.to_numpy()\n",
        "x_train_patient_dialogue = np.asarray(X_train_patient_dialogue).astype(str)\n",
        "\n",
        "X_test_patient_dialogue = x_test.to_numpy()\n",
        "x_test_patient_dialogue = np.asarray(X_test_patient_dialogue).astype(str)\n"
      ]
    },
    {
      "cell_type": "code",
      "source": [
        "y_train=pd.get_dummies(y_train)\n",
        "y_test = pd.get_dummies(y_test)"
      ],
      "metadata": {
        "id": "IQMwsuqnneKA"
      },
      "execution_count": null,
      "outputs": []
    },
    {
      "cell_type": "code",
      "execution_count": null,
      "metadata": {
        "id": "KnIP3JEUrZcZ"
      },
      "outputs": [],
      "source": [
        "\n",
        "y_train_ = np.asarray(y_train.values).astype('float32')\n",
        "y_test_ = np.asarray(y_test.values).astype('float32')"
      ]
    },
    {
      "cell_type": "code",
      "execution_count": null,
      "metadata": {
        "id": "ealxELgf090o"
      },
      "outputs": [],
      "source": [
        "preprocessor = hub.load(\"https://tfhub.dev/tensorflow/bert_en_uncased_preprocess/3\")\n",
        "text_inputs = [tf.keras.layers.Input(shape=(), dtype=tf.string)]\n",
        "tokenize = hub.KerasLayer(preprocessor.tokenize)\n",
        "tokenized_inputs = [tokenize(segment) for segment in text_inputs]\n",
        "seq_length = 512\n",
        "bert_pack_inputs = hub.KerasLayer(preprocessor.bert_pack_inputs, arguments=dict(seq_length=seq_length))\n",
        "encoder_inputs = bert_pack_inputs(tokenized_inputs)\n",
        "encoder = hub.KerasLayer(\"https://tfhub.dev/tensorflow/bert_en_uncased_L-12_H-768_A-12/4\")\n",
        "outputs = encoder(encoder_inputs)\n",
        "pooled_output = outputs[\"pooled_output\"]\n",
        "embedding_model = tf.keras.Model(text_inputs, pooled_output)"
      ]
    },
    {
      "cell_type": "code",
      "execution_count": null,
      "metadata": {
        "id": "EqGZtSbYzJNC"
      },
      "outputs": [],
      "source": [
        "from keras.layers import Layer\n",
        "import keras.backend as K\n",
        "\n",
        "# Add attention layer to the deep learning network\n",
        "class attention(Layer):\n",
        "    def __init__(self,**kwargs):\n",
        "        super(attention,self).__init__(**kwargs)\n",
        "\n",
        "    def build(self,input_shape):\n",
        "        self.W=self.add_weight(name='attention_weight', shape=(input_shape[-1],1), \n",
        "                               initializer='random_normal', trainable=True)\n",
        "        self.b=self.add_weight(name='attention_bias', shape=(input_shape[1],1), \n",
        "                               initializer='zeros', trainable=True)        \n",
        "        super(attention, self).build(input_shape)\n",
        "\n",
        "    def call(self,x):\n",
        "        # Alignment scores. Pass them through tanh function\n",
        "        e = K.tanh(K.dot(x,self.W)+self.b)\n",
        "        # Remove dimension of size 1\n",
        "        e = K.squeeze(e, axis=-1)   \n",
        "        # Compute the weights\n",
        "        alpha = K.softmax(e)\n",
        "        # Reshape to tensorFlow format\n",
        "        alpha = K.expand_dims(alpha, axis=-1)\n",
        "        # Compute the context vector\n",
        "        context = x * alpha\n",
        "        context = K.sum(context, axis=1)\n",
        "        return context"
      ]
    },
    {
      "cell_type": "code",
      "execution_count": null,
      "metadata": {
        "id": "ISuMJebmz5yA",
        "outputId": "b6f3008b-bf5d-4935-ac87-7a588706eff0",
        "colab": {
          "base_uri": "https://localhost:8080/"
        }
      },
      "outputs": [
        {
          "output_type": "stream",
          "name": "stdout",
          "text": [
            "Model: \"model_4\"\n",
            "_________________________________________________________________\n",
            " Layer (type)                Output Shape              Param #   \n",
            "=================================================================\n",
            " Patient dialogue (InputLaye  [(None,)]                0         \n",
            " r)                                                              \n",
            "                                                                 \n",
            " model_2 (Functional)        (None, 768)               109482241 \n",
            "                                                                 \n",
            " dense_2 (Dense)             (None, 8)                 6152      \n",
            "                                                                 \n",
            "=================================================================\n",
            "Total params: 109,488,393\n",
            "Trainable params: 6,152\n",
            "Non-trainable params: 109,482,241\n",
            "_________________________________________________________________\n"
          ]
        }
      ],
      "source": [
        "text_input_patient_dialogue = Input(shape=(),dtype=tf.string, name='Patient dialogue')\n",
        "encode_output_patient_dialogue = embedding_model(text_input_patient_dialogue)\n",
        "\n",
        "#bilstm_patient_dialogue = Bidirectional(CuDNNLSTM(units=256,return_sequences=True))(encode_output_patient_dialogue)\n",
        "\n",
        "#att = attention()(bilstm_patient_dialogue)\n",
        "\n",
        "output = Dense(8, activation='softmax')(encode_output_patient_dialogue)\n",
        "model = Model(inputs=[text_input_patient_dialogue ], outputs=output)\n",
        "model.compile(loss='categorical_crossentropy',\n",
        "              optimizer='adam',\n",
        "              metrics=['accuracy'])\n",
        "\n",
        "model.summary()"
      ]
    },
    {
      "cell_type": "code",
      "execution_count": null,
      "metadata": {
        "id": "Xp2yvNdSz-2a",
        "colab": {
          "base_uri": "https://localhost:8080/",
          "height": 312
        },
        "outputId": "fec1fa34-daf2-4841-a9b4-accccae7a229"
      },
      "outputs": [
        {
          "output_type": "execute_result",
          "data": {
            "text/plain": [
              "<IPython.core.display.Image object>"
            ],
            "image/png": "[encoded data removed]"
          },
          "metadata": {},
          "execution_count": 64
        }
      ],
      "source": [
        "tf.keras.utils.plot_model(\n",
        "    model,\n",
        "    to_file=\"model.png\",\n",
        "    show_shapes=True,\n",
        "    show_dtype=False,\n",
        "    show_layer_names=True,\n",
        "    rankdir=\"TB\",\n",
        "    expand_nested=False,\n",
        "    dpi=96,\n",
        "    layer_range=None,\n",
        "    show_layer_activations=True,\n",
        ")"
      ]
    },
    {
      "cell_type": "markdown",
      "metadata": {
        "id": "6d3CTxo9-mh7"
      },
      "source": [
        "# Training..."
      ]
    },
    {
      "cell_type": "code",
      "execution_count": null,
      "metadata": {
        "id": "PXi3Sh0z0A5S",
        "outputId": "f94710e8-4774-4b69-98ae-8520b6b0fe35",
        "colab": {
          "base_uri": "https://localhost:8080/"
        }
      },
      "outputs": [
        {
          "output_type": "stream",
          "name": "stdout",
          "text": [
            "Epoch 1/100\n",
            "1263/1263 [==============================] - 242s 192ms/step - loss: 1.0552 - accuracy: 0.6432\n",
            "Epoch 2/100\n",
            "1263/1263 [==============================] - 242s 192ms/step - loss: 1.0471 - accuracy: 0.6502\n",
            "Epoch 3/100\n",
            "1263/1263 [==============================] - 242s 192ms/step - loss: 1.0305 - accuracy: 0.6535\n",
            "Epoch 4/100\n",
            "1263/1263 [==============================] - 242s 192ms/step - loss: 1.0253 - accuracy: 0.6543\n",
            "Epoch 5/100\n",
            "1263/1263 [==============================] - 243s 192ms/step - loss: 1.0119 - accuracy: 0.6557\n",
            "Epoch 6/100\n",
            "1263/1263 [==============================] - 242s 191ms/step - loss: 1.0104 - accuracy: 0.6585\n",
            "Epoch 7/100\n",
            "1263/1263 [==============================] - 243s 192ms/step - loss: 0.9957 - accuracy: 0.6607\n",
            "Epoch 8/100\n",
            "1263/1263 [==============================] - 239s 189ms/step - loss: 0.9964 - accuracy: 0.6607\n",
            "Epoch 9/100\n",
            "1263/1263 [==============================] - 239s 189ms/step - loss: 0.9889 - accuracy: 0.6601\n",
            "Epoch 10/100\n",
            "1263/1263 [==============================] - 242s 192ms/step - loss: 0.9699 - accuracy: 0.6674\n",
            "Epoch 11/100\n",
            "1263/1263 [==============================] - 243s 192ms/step - loss: 0.9635 - accuracy: 0.6708\n",
            "Epoch 12/100\n",
            "1263/1263 [==============================] - 239s 189ms/step - loss: 0.9736 - accuracy: 0.6684\n",
            "Epoch 13/100\n",
            "1263/1263 [==============================] - 239s 189ms/step - loss: 0.9636 - accuracy: 0.6698\n",
            "Epoch 14/100\n",
            "1263/1263 [==============================] - 239s 189ms/step - loss: 0.9548 - accuracy: 0.6702\n",
            "Epoch 15/100\n",
            "1263/1263 [==============================] - 243s 193ms/step - loss: 0.9494 - accuracy: 0.6785\n",
            "Epoch 16/100\n",
            "1263/1263 [==============================] - 240s 190ms/step - loss: 0.9496 - accuracy: 0.6729\n",
            "Epoch 17/100\n",
            "1263/1263 [==============================] - 240s 190ms/step - loss: 0.9491 - accuracy: 0.6761\n",
            "Epoch 18/100\n",
            "1263/1263 [==============================] - 243s 193ms/step - loss: 0.9341 - accuracy: 0.6814\n",
            "Epoch 19/100\n",
            "1263/1263 [==============================] - 239s 189ms/step - loss: 0.9385 - accuracy: 0.6763\n",
            "Epoch 20/100\n",
            "1263/1263 [==============================] - 239s 189ms/step - loss: 0.9267 - accuracy: 0.6773\n",
            "Epoch 21/100\n",
            "1263/1263 [==============================] - 238s 189ms/step - loss: 0.9270 - accuracy: 0.6813\n",
            "Epoch 22/100\n",
            "1263/1263 [==============================] - 242s 191ms/step - loss: 0.9136 - accuracy: 0.6820\n",
            "Epoch 23/100\n",
            "1263/1263 [==============================] - 239s 189ms/step - loss: 0.9221 - accuracy: 0.6811\n",
            "Epoch 24/100\n",
            "1263/1263 [==============================] - 241s 191ms/step - loss: 0.9171 - accuracy: 0.6850\n",
            "Epoch 25/100\n",
            "1263/1263 [==============================] - 238s 188ms/step - loss: 0.9090 - accuracy: 0.6842\n",
            "Epoch 26/100\n",
            "1263/1263 [==============================] - 243s 192ms/step - loss: 0.9037 - accuracy: 0.6896\n",
            "Epoch 27/100\n",
            "1263/1263 [==============================] - 239s 189ms/step - loss: 0.9140 - accuracy: 0.6820\n",
            "Epoch 28/100\n",
            "1263/1263 [==============================] - 239s 189ms/step - loss: 0.8999 - accuracy: 0.6892\n",
            "Epoch 29/100\n",
            "1263/1263 [==============================] - 239s 190ms/step - loss: 0.8961 - accuracy: 0.6892\n",
            "Epoch 30/100\n",
            "1263/1263 [==============================] - 239s 190ms/step - loss: 0.8973 - accuracy: 0.6872\n",
            "Epoch 31/100\n",
            "1263/1263 [==============================] - 244s 194ms/step - loss: 0.8968 - accuracy: 0.6913\n",
            "Epoch 32/100\n",
            "1263/1263 [==============================] - 240s 190ms/step - loss: 0.8883 - accuracy: 0.6876\n",
            "Epoch 33/100\n",
            "1263/1263 [==============================] - 239s 190ms/step - loss: 0.8957 - accuracy: 0.6878\n",
            "Epoch 34/100\n",
            "1012/1263 [=======================>......] - ETA: 47s - loss: 0.8857 - accuracy: 0.6964"
          ]
        }
      ],
      "source": [
        "checkpoint_filepath = '/content/drive/MyDrive/bert _emotion.h5'\n",
        "model_checkpoint_callback = tf.keras.callbacks.ModelCheckpoint(\n",
        "    filepath=checkpoint_filepath,\n",
        "    save_weights_only=True,\n",
        "    monitor='accuracy',\n",
        "    mode='max',\n",
        "    save_best_only=True)\n",
        "\n",
        "early_stopping = tf.keras.callbacks.EarlyStopping(monitor='accuracy', mode='auto', \n",
        "                                               patience=5, \n",
        "                                               verbose=1)\n",
        "\n",
        "hist = model.fit(X_train_patient_dialogue, y_train_, \n",
        "                epochs=100, \n",
        "                batch_size=4, verbose=1,\n",
        "                callbacks=[early_stopping,model_checkpoint_callback])"
      ]
    },
    {
      "cell_type": "markdown",
      "metadata": {
        "id": "nZSsWz0udcwc"
      },
      "source": [
        "# Loading trained model"
      ]
    },
    {
      "cell_type": "code",
      "execution_count": null,
      "metadata": {
        "id": "Cvw3cHaM0FtC",
        "outputId": "85b958d7-e9a0-45fe-8a99-8baee155f983",
        "colab": {
          "base_uri": "https://localhost:8080/"
        }
      },
      "outputs": [
        {
          "output_type": "stream",
          "name": "stdout",
          "text": [
            "1252/1252 [==============================] - 63s 50ms/step - loss: 0.5376 - accuracy: 0.8666\n"
          ]
        },
        {
          "output_type": "execute_result",
          "data": {
            "text/plain": [
              "[0.5375537276268005, 0.8666134476661682]"
            ]
          },
          "metadata": {},
          "execution_count": 27
        }
      ],
      "source": [
        "model.evaluate( X_test_patient_dialogue, y_test_, batch_size=1)"
      ]
    },
    {
      "cell_type": "code",
      "execution_count": null,
      "metadata": {
        "id": "Ni82cFNa0Hgr"
      },
      "outputs": [],
      "source": [
        "pred = model.predict( X_test_patient_dialogue)"
      ]
    },
    {
      "cell_type": "code",
      "source": [
        "y_pred = np.argmax(pred, axis=1)\n",
        "y_test = np.argmax(y_test_, axis=1)\n",
        "\n",
        "from sklearn.metrics import f1_score\n",
        "print(\"F1 score(macro)\",f1_score(y_test, y_pred, average='weighted'))\n",
        "print(\"F1 score(micro)\",f1_score(y_test, y_pred, average='micro'))\n",
        "\n"
      ],
      "metadata": {
        "id": "3MANYmQjXYov",
        "outputId": "f0b36704-5b6e-41f2-e06e-fe20c7315376",
        "colab": {
          "base_uri": "https://localhost:8080/"
        }
      },
      "execution_count": null,
      "outputs": [
        {
          "output_type": "stream",
          "name": "stdout",
          "text": [
            "F1 score(macro) 0.8079982986126308\n",
            "F1 score(micro) 0.8666134185303515\n"
          ]
        }
      ]
    },
    {
      "cell_type": "markdown",
      "metadata": {
        "id": "V2k4Jr-FVm20"
      },
      "source": [
        "# Confusion Matrix"
      ]
    },
    {
      "cell_type": "code",
      "execution_count": null,
      "metadata": {
        "id": "Mh9mJLCc0gss",
        "outputId": "3f08d8e5-ccb0-4eed-c37a-45f0d8baa0c8",
        "colab": {
          "base_uri": "https://localhost:8080/",
          "height": 363
        }
      },
      "outputs": [
        {
          "output_type": "display_data",
          "data": {
            "text/plain": [
              "<Figure size 432x288 with 2 Axes>"
            ],
            "image/png": "[encoded data removed]"
          },
          "metadata": {
            "needs_background": "light"
          }
        }
      ],
      "source": [
        "from sklearn.metrics import confusion_matrix\n",
        "confusion = confusion_matrix(y_test, y_pred)\n",
        "import matplotlib.pyplot as plt\n",
        "import seaborn as sns\n",
        "\n",
        "ax = sns.heatmap(confusion, annot=True, cmap='Blues')\n",
        "ax.xaxis.set_ticklabels(labels)\n",
        "ax.yaxis.set_ticklabels(labels)\n",
        "#ax.set_title('Description only\\n')\n",
        "ax.set_xlabel('\\nPredicted Values')\n",
        "ax.set_ylabel('Actual Values ')\n",
        "\n",
        "plt.xticks(rotation=90)\n",
        "plt.yticks(rotation=0)\n",
        "plt.show()"
      ]
    },
    {
      "cell_type": "code",
      "source": [
        "from sklearn.metrics import accuracy_score\n",
        "accuracy_score(y_test, y_pred)"
      ],
      "metadata": {
        "id": "7L9DYVPwZb2g",
        "outputId": "2ef60fd0-b96c-4b45-c071-56ef70fbf67d",
        "colab": {
          "base_uri": "https://localhost:8080/"
        }
      },
      "execution_count": null,
      "outputs": [
        {
          "output_type": "execute_result",
          "data": {
            "text/plain": [
              "0.8666134185303515"
            ]
          },
          "metadata": {},
          "execution_count": 31
        }
      ]
    },
    {
      "cell_type": "code",
      "source": [
        "from sklearn.metrics import classification_report"
      ],
      "metadata": {
        "id": "6uVC4X2Hnsr5"
      },
      "execution_count": null,
      "outputs": []
    },
    {
      "cell_type": "code",
      "source": [
        "print(classification_report(y_test,y_pred))"
      ],
      "metadata": {
        "id": "rGBiQY2unG-D",
        "outputId": "44affc45-2447-4ab1-9d2c-276375fbcd01",
        "colab": {
          "base_uri": "https://localhost:8080/"
        }
      },
      "execution_count": null,
      "outputs": [
        {
          "output_type": "stream",
          "name": "stdout",
          "text": [
            "              precision    recall  f1-score   support\n",
            "\n",
            "           0       0.00      0.00      0.00        10\n",
            "           1       0.00      0.00      0.00        28\n",
            "           2       0.00      0.00      0.00       100\n",
            "           3       0.00      0.00      0.00        18\n",
            "           4       0.87      1.00      0.93      1089\n",
            "           5       0.00      0.00      0.00         7\n",
            "\n",
            "    accuracy                           0.87      1252\n",
            "   macro avg       0.15      0.17      0.15      1252\n",
            "weighted avg       0.76      0.87      0.81      1252\n",
            "\n"
          ]
        },
        {
          "output_type": "stream",
          "name": "stderr",
          "text": [
            "/usr/local/lib/python3.7/dist-packages/sklearn/metrics/_classification.py:1318: UndefinedMetricWarning: Precision and F-score are ill-defined and being set to 0.0 in labels with no predicted samples. Use `zero_division` parameter to control this behavior.\n",
            "  _warn_prf(average, modifier, msg_start, len(result))\n",
            "/usr/local/lib/python3.7/dist-packages/sklearn/metrics/_classification.py:1318: UndefinedMetricWarning: Precision and F-score are ill-defined and being set to 0.0 in labels with no predicted samples. Use `zero_division` parameter to control this behavior.\n",
            "  _warn_prf(average, modifier, msg_start, len(result))\n",
            "/usr/local/lib/python3.7/dist-packages/sklearn/metrics/_classification.py:1318: UndefinedMetricWarning: Precision and F-score are ill-defined and being set to 0.0 in labels with no predicted samples. Use `zero_division` parameter to control this behavior.\n",
            "  _warn_prf(average, modifier, msg_start, len(result))\n"
          ]
        }
      ]
    }
  ],
  "metadata": {
    "colab": {
      "collapsed_sections": [],
      "name": "BERT__emotion.ipynb",
      "provenance": []
    },
    "interpreter": {
      "hash": "ef5a1b878f1c0d36a8775ef65d61dea94c8b06f9e3de694c9f62c24084e753f1"
    },
    "kernelspec": {
      "display_name": "Python 3.7.9 64-bit",
      "language": "python",
      "name": "python3"
    },
    "language_info": {
      "name": "python",
      "version": "3.7.9"
    },
    "accelerator": "GPU"
  },
  "nbformat": 4,
  "nbformat_minor": 0
}